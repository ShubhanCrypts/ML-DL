{
 "cells": [
  {
   "cell_type": "markdown",
   "id": "82ed94a3",
   "metadata": {},
   "source": [
    "# Import Packages"
   ]
  },
  {
   "cell_type": "code",
   "execution_count": 1,
   "id": "84885575",
   "metadata": {},
   "outputs": [],
   "source": [
    "import numpy as np\n",
    "import pandas as pd\n",
    "\n",
    "from sklearn.model_selection import train_test_split\n",
    "from sklearn.pipeline import Pipeline\n",
    "from sklearn.compose import ColumnTransformer\n",
    "\n",
    "from jcopml.pipeline import num_pipe, cat_pipe\n",
    "from jcopml.utils import save_model, load_model\n",
    "from jcopml.plot import plot_missing_value\n",
    "from jcopml.feature_importance import mean_score_decrease\n",
    "\n",
    "from luwiji.text_proc import illustration"
   ]
  },
  {
   "cell_type": "code",
   "execution_count": 2,
   "id": "bcc13c7e",
   "metadata": {},
   "outputs": [],
   "source": [
    "from nltk.tokenize import word_tokenize\n",
    "from nltk.corpus import stopwords\n",
    "from string import punctuation\n",
    "\n",
    "sw_indo = stopwords.words(\"indonesian\") + list(punctuation)"
   ]
  },
  {
   "cell_type": "markdown",
   "id": "87b09a92",
   "metadata": {},
   "source": [
    "# Import Data"
   ]
  },
  {
   "cell_type": "code",
   "execution_count": 3,
   "id": "76d1659e",
   "metadata": {},
   "outputs": [
    {
     "data": {
      "text/html": [
       "<div>\n",
       "<style scoped>\n",
       "    .dataframe tbody tr th:only-of-type {\n",
       "        vertical-align: middle;\n",
       "    }\n",
       "\n",
       "    .dataframe tbody tr th {\n",
       "        vertical-align: top;\n",
       "    }\n",
       "\n",
       "    .dataframe thead th {\n",
       "        text-align: right;\n",
       "    }\n",
       "</style>\n",
       "<table border=\"1\" class=\"dataframe\">\n",
       "  <thead>\n",
       "    <tr style=\"text-align: right;\">\n",
       "      <th></th>\n",
       "      <th>teks</th>\n",
       "    </tr>\n",
       "  </thead>\n",
       "  <tbody>\n",
       "    <tr>\n",
       "      <th>0</th>\n",
       "      <td>Ginandjar Tetap Ditahan. Jaksa Agung Dilaporka...</td>\n",
       "    </tr>\n",
       "    <tr>\n",
       "      <th>1</th>\n",
       "      <td>Jakarta Dikangkangi Para Preman\\nKALAU tak pun...</td>\n",
       "    </tr>\n",
       "    <tr>\n",
       "      <th>2</th>\n",
       "      <td>Penyimpangan di Setpres Seolah Terjadi Sekaran...</td>\n",
       "    </tr>\n",
       "    <tr>\n",
       "      <th>3</th>\n",
       "      <td>Dibayarkan, Rapel Kenaikan Gaji Pegawai Pos\\nK...</td>\n",
       "    </tr>\n",
       "    <tr>\n",
       "      <th>4</th>\n",
       "      <td>Stop Kekerasan, Elite agar Duduk Bersama\\nSeju...</td>\n",
       "    </tr>\n",
       "  </tbody>\n",
       "</table>\n",
       "</div>"
      ],
      "text/plain": [
       "                                                teks\n",
       "0  Ginandjar Tetap Ditahan. Jaksa Agung Dilaporka...\n",
       "1  Jakarta Dikangkangi Para Preman\\nKALAU tak pun...\n",
       "2  Penyimpangan di Setpres Seolah Terjadi Sekaran...\n",
       "3  Dibayarkan, Rapel Kenaikan Gaji Pegawai Pos\\nK...\n",
       "4  Stop Kekerasan, Elite agar Duduk Bersama\\nSeju..."
      ]
     },
     "execution_count": 3,
     "metadata": {},
     "output_type": "execute_result"
    }
   ],
   "source": [
    "df = pd.read_csv(\"data/kompas.csv\")\n",
    "df.head()"
   ]
  },
  {
   "cell_type": "markdown",
   "id": "e1160127",
   "metadata": {},
   "source": [
    "# Extract TFIDF"
   ]
  },
  {
   "cell_type": "code",
   "execution_count": 4,
   "id": "598b24c5",
   "metadata": {},
   "outputs": [],
   "source": [
    "from sklearn.feature_extraction.text import TfidfVectorizer"
   ]
  },
  {
   "cell_type": "code",
   "execution_count": 6,
   "id": "6deeb4a0",
   "metadata": {},
   "outputs": [
    {
     "name": "stderr",
     "output_type": "stream",
     "text": [
      "C:\\Users\\ASUS\\miniconda3\\envs\\jcop\\Lib\\site-packages\\sklearn\\feature_extraction\\text.py:525: UserWarning: The parameter 'token_pattern' will not be used since 'tokenizer' is not None'\n",
      "  warnings.warn(\n",
      "C:\\Users\\ASUS\\miniconda3\\envs\\jcop\\Lib\\site-packages\\sklearn\\feature_extraction\\text.py:408: UserWarning: Your stop_words may be inconsistent with your preprocessing. Tokenizing the stop words generated tokens ['``'] not in stop_words.\n",
      "  warnings.warn(\n"
     ]
    }
   ],
   "source": [
    "tfidf = TfidfVectorizer(ngram_range=(1, 2), tokenizer=word_tokenize, stop_words=sw_indo)\n",
    "tfidf_matrix = tfidf.fit_transform(df.teks)"
   ]
  },
  {
   "cell_type": "markdown",
   "id": "bcc61573",
   "metadata": {},
   "source": [
    "# TF-IDF Similarity => Document Similarity"
   ]
  },
  {
   "cell_type": "code",
   "execution_count": 7,
   "id": "7e4d1a63",
   "metadata": {},
   "outputs": [],
   "source": [
    "from sklearn.metrics.pairwise import cosine_similarity"
   ]
  },
  {
   "cell_type": "code",
   "execution_count": 8,
   "id": "f0cf2054",
   "metadata": {},
   "outputs": [
    {
     "data": {
      "text/plain": [
       "array([[1.        , 0.00858328, 0.01060043, ..., 0.00856287, 0.00677808,\n",
       "        0.01513341]])"
      ]
     },
     "execution_count": 8,
     "metadata": {},
     "output_type": "execute_result"
    }
   ],
   "source": [
    "sim = cosine_similarity(tfidf_matrix[0], tfidf_matrix)\n",
    "sim"
   ]
  },
  {
   "cell_type": "code",
   "execution_count": 9,
   "id": "8a5ae63e",
   "metadata": {},
   "outputs": [
    {
     "data": {
      "text/plain": [
       "array([[ 932, 1131, 1593, ...,  215,  144,    0]], dtype=int64)"
      ]
     },
     "execution_count": 9,
     "metadata": {},
     "output_type": "execute_result"
    }
   ],
   "source": [
    "sim.argsort()"
   ]
  },
  {
   "cell_type": "code",
   "execution_count": 10,
   "id": "222ead57",
   "metadata": {},
   "outputs": [
    {
     "data": {
      "text/plain": [
       "0       Ginandjar Tetap Ditahan. Jaksa Agung Dilaporka...\n",
       "1       Jakarta Dikangkangi Para Preman\\nKALAU tak pun...\n",
       "2       Penyimpangan di Setpres Seolah Terjadi Sekaran...\n",
       "3       Dibayarkan, Rapel Kenaikan Gaji Pegawai Pos\\nK...\n",
       "4       Stop Kekerasan, Elite agar Duduk Bersama\\nSeju...\n",
       "                              ...                        \n",
       "2003    Tersangka Peledakan Granat di Bulungan Ditangk...\n",
       "2004    Soal Operasi Pasar Murni Beras   Pedagang Yaki...\n",
       "2005    Penjualan Indomobil Langgar Prosedur\\n\\nSelain...\n",
       "2006    Belum Jelas Motif  Peledakan Granat di Blok M\\...\n",
       "2007    ANALISIS EKONOMI SJAHRIR    BBM dan PKPS: Menu...\n",
       "Name: teks, Length: 2008, dtype: object"
      ]
     },
     "execution_count": 10,
     "metadata": {},
     "output_type": "execute_result"
    }
   ],
   "source": [
    "df.teks"
   ]
  },
  {
   "cell_type": "code",
   "execution_count": 11,
   "id": "6a7af267",
   "metadata": {},
   "outputs": [
    {
     "data": {
      "text/plain": [
       "'Ginandjar Tetap Ditahan. Jaksa Agung Dilaporkan ke Polri\\nKejaksaan Agung memutuskan untuk tetap menahan tersangka kasus korupsi, Ginandjar Kartasasmita, sampai batas waktu yang ditentukan KUHAP. Sedan'"
      ]
     },
     "execution_count": 11,
     "metadata": {},
     "output_type": "execute_result"
    }
   ],
   "source": [
    "df.teks[0][:200]"
   ]
  },
  {
   "cell_type": "code",
   "execution_count": 13,
   "id": "7f89a449",
   "metadata": {},
   "outputs": [
    {
     "data": {
      "text/plain": [
       "'Kejaksaan Agung Terbitkan Surat Penahanan Baru\\nKejaksaan Agung (Kejagung) akhirnya menerbitkan surat perintah penahanan yang baru terhadap mantan Menteri Pertambangan dan Energi Ginandjar Kartasasmita'"
      ]
     },
     "execution_count": 13,
     "metadata": {},
     "output_type": "execute_result"
    }
   ],
   "source": [
    "df.teks[144][:200]"
   ]
  },
  {
   "cell_type": "code",
   "execution_count": 14,
   "id": "88a416d5",
   "metadata": {},
   "outputs": [
    {
     "data": {
      "text/plain": [
       "'Kuasa Hukum Ginandjar Bertahan di Rutan\\nSejumlah kuasa hukum Ginandjar Kartasasmita hingga hari Selasa (17/4) pukul 22.00 masih bertahan di ruang tahanan (rutan) Kejaksaan Agung (Kejagung). Selasa pag'"
      ]
     },
     "execution_count": 14,
     "metadata": {},
     "output_type": "execute_result"
    }
   ],
   "source": [
    "df.teks[215][:200]"
   ]
  },
  {
   "cell_type": "markdown",
   "id": "4f074c00",
   "metadata": {},
   "source": [
    "# Keyword Extraction"
   ]
  },
  {
   "cell_type": "code",
   "execution_count": 15,
   "id": "43ac42f9",
   "metadata": {},
   "outputs": [
    {
     "data": {
      "text/plain": [
       "array(['zuniga memilih', 'zunnatul', 'zunnatul mafruhah', 'zurich',\n",
       "       'zurich northholt', 'zw', 'zw suparman', 'zw tim', 'zx',\n",
       "       'zx diserbu'], dtype=object)"
      ]
     },
     "execution_count": 15,
     "metadata": {},
     "output_type": "execute_result"
    }
   ],
   "source": [
    "vocab = tfidf.get_feature_names_out()\n",
    "vocab[-10:]"
   ]
  },
  {
   "cell_type": "code",
   "execution_count": 17,
   "id": "f266acf6",
   "metadata": {},
   "outputs": [
    {
     "data": {
      "text/plain": [
       "array([[0.02115058, 0.        , 0.        , ..., 0.        , 0.        ,\n",
       "        0.        ]])"
      ]
     },
     "execution_count": 17,
     "metadata": {},
     "output_type": "execute_result"
    }
   ],
   "source": [
    "tfidf_matrix[0].toarray()"
   ]
  },
  {
   "cell_type": "code",
   "execution_count": 19,
   "id": "2f67081d",
   "metadata": {},
   "outputs": [
    {
     "data": {
      "text/plain": [
       "array([274212, 365469, 365468, ..., 386379, 436652, 169219], dtype=int64)"
      ]
     },
     "execution_count": 19,
     "metadata": {},
     "output_type": "execute_result"
    }
   ],
   "source": [
    "sorted_tfidf = tfidf_matrix[0].toarray()[0].argsort()\n",
    "sorted_tfidf"
   ]
  },
  {
   "cell_type": "code",
   "execution_count": 21,
   "id": "18f0dacb",
   "metadata": {},
   "outputs": [
    {
     "data": {
      "text/plain": [
       "'ginandjar'"
      ]
     },
     "execution_count": 21,
     "metadata": {},
     "output_type": "execute_result"
    }
   ],
   "source": [
    "vocab[169219]"
   ]
  },
  {
   "cell_type": "code",
   "execution_count": 22,
   "id": "018a9f8b",
   "metadata": {},
   "outputs": [
    {
     "data": {
      "text/plain": [
       "'putusan'"
      ]
     },
     "execution_count": 22,
     "metadata": {},
     "output_type": "execute_result"
    }
   ],
   "source": [
    "vocab[436652]"
   ]
  },
  {
   "cell_type": "code",
   "execution_count": 23,
   "id": "756d06fa",
   "metadata": {},
   "outputs": [
    {
     "data": {
      "text/plain": [
       "['ginandjar',\n",
       " 'putusan',\n",
       " 'penahanan',\n",
       " 'hukum ginandjar',\n",
       " 'kuasa hukum',\n",
       " 'rusman',\n",
       " 'kejaksaan',\n",
       " 'hakim rusman',\n",
       " 'kuasa',\n",
       " '9 april']"
      ]
     },
     "execution_count": 23,
     "metadata": {},
     "output_type": "execute_result"
    }
   ],
   "source": [
    "[vocab[idx] for idx in reversed(sorted_tfidf[-10:])]"
   ]
  },
  {
   "cell_type": "code",
   "execution_count": 26,
   "id": "9f7f4ced",
   "metadata": {},
   "outputs": [],
   "source": [
    "def extract_keywords_tfidf(doc, tfidf, topk=10):\n",
    "    matrix = tfidf.transform([doc])\n",
    "    vocab = tfidf.get_feature_names_out()\n",
    "    \n",
    "    sortef_idf = matrix[0].toarray()[0].argsort()\n",
    "    return [vocab[idx] for idx in reversed(sorted_tfidf[-topk:])]"
   ]
  },
  {
   "cell_type": "code",
   "execution_count": 27,
   "id": "ec0c5a7a",
   "metadata": {},
   "outputs": [
    {
     "data": {
      "text/plain": [
       "['ginandjar',\n",
       " 'putusan',\n",
       " 'penahanan',\n",
       " 'hukum ginandjar',\n",
       " 'kuasa hukum',\n",
       " 'rusman',\n",
       " 'kejaksaan',\n",
       " 'hakim rusman',\n",
       " 'kuasa',\n",
       " '9 april']"
      ]
     },
     "execution_count": 27,
     "metadata": {},
     "output_type": "execute_result"
    }
   ],
   "source": [
    "extract_keywords_tfidf(df.teks[0], tfidf)"
   ]
  },
  {
   "cell_type": "code",
   "execution_count": null,
   "id": "4f2e109f",
   "metadata": {},
   "outputs": [],
   "source": []
  }
 ],
 "metadata": {
  "kernelspec": {
   "display_name": "Python [conda env:jcop]",
   "language": "python",
   "name": "conda-env-jcop-py"
  },
  "language_info": {
   "codemirror_mode": {
    "name": "ipython",
    "version": 3
   },
   "file_extension": ".py",
   "mimetype": "text/x-python",
   "name": "python",
   "nbconvert_exporter": "python",
   "pygments_lexer": "ipython3",
   "version": "3.11.0"
  },
  "varInspector": {
   "cols": {
    "lenName": 16,
    "lenType": 16,
    "lenVar": 40
   },
   "kernels_config": {
    "python": {
     "delete_cmd_postfix": "",
     "delete_cmd_prefix": "del ",
     "library": "var_list.py",
     "varRefreshCmd": "print(var_dic_list())"
    },
    "r": {
     "delete_cmd_postfix": ") ",
     "delete_cmd_prefix": "rm(",
     "library": "var_list.r",
     "varRefreshCmd": "cat(var_dic_list()) "
    }
   },
   "types_to_exclude": [
    "module",
    "function",
    "builtin_function_or_method",
    "instance",
    "_Feature"
   ],
   "window_display": false
  }
 },
 "nbformat": 4,
 "nbformat_minor": 5
}
