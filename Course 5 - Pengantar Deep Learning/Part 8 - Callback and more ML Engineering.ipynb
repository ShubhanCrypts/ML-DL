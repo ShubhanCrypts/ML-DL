{
 "cells": [
  {
   "cell_type": "code",
   "execution_count": 1,
   "id": "7aedf013",
   "metadata": {},
   "outputs": [],
   "source": [
    "import torch\n",
    "from torch import nn, optim\n",
    "from jcopdl.callback import Callback, set_config\n",
    "\n",
    "# device = torch.device(\"cuda\" if torch.cuda.is_available() else \"cpu\")\n",
    "# device"
   ]
  },
  {
   "cell_type": "code",
   "execution_count": 2,
   "id": "ba6e6ab1",
   "metadata": {},
   "outputs": [
    {
     "data": {
      "text/plain": [
       "True"
      ]
     },
     "execution_count": 2,
     "metadata": {},
     "output_type": "execute_result"
    }
   ],
   "source": [
    "torch.cuda.is_available()"
   ]
  },
  {
   "cell_type": "code",
   "execution_count": 3,
   "id": "65195670",
   "metadata": {},
   "outputs": [
    {
     "data": {
      "text/plain": [
       "device(type='cuda')"
      ]
     },
     "execution_count": 3,
     "metadata": {},
     "output_type": "execute_result"
    }
   ],
   "source": [
    "device = torch.device(\"cuda\") if torch.cuda.is_available() else torch.device(\"cpu\")\n",
    "device"
   ]
  },
  {
   "cell_type": "code",
   "execution_count": 4,
   "id": "ec9f34de",
   "metadata": {},
   "outputs": [],
   "source": [
    "from jcopdl.layers import linear_block"
   ]
  },
  {
   "cell_type": "markdown",
   "id": "21fdc873",
   "metadata": {},
   "source": [
    "# Dataset and Dataloader"
   ]
  },
  {
   "cell_type": "code",
   "execution_count": 5,
   "id": "f8ef9511",
   "metadata": {},
   "outputs": [],
   "source": [
    "from torchvision import datasets, transforms\n",
    "from torch.utils.data import DataLoader"
   ]
  },
  {
   "cell_type": "code",
   "execution_count": 6,
   "id": "6bef7ee3",
   "metadata": {},
   "outputs": [],
   "source": [
    "batch_size = 128\n",
    "\n",
    "transform = transforms.Compose([\n",
    "    transforms.Grayscale(),\n",
    "    transforms.ToTensor()\n",
    "])\n",
    "\n",
    "train_set = datasets.ImageFolder(\"data/train/\", transform=transform) \n",
    "trainloader = DataLoader(train_set, batch_size=batch_size, shuffle=True, num_workers=2)\n",
    "\n",
    "test_set = datasets.ImageFolder(\"data/test/\", transform=transform)\n",
    "testloader = DataLoader(test_set, batch_size=batch_size, shuffle=True, num_workers=2)"
   ]
  },
  {
   "cell_type": "code",
   "execution_count": 7,
   "id": "fe61b72f",
   "metadata": {},
   "outputs": [
    {
     "data": {
      "text/plain": [
       "torch.Size([128, 1, 28, 28])"
      ]
     },
     "execution_count": 7,
     "metadata": {},
     "output_type": "execute_result"
    }
   ],
   "source": [
    "images, labels = next(iter(trainloader))\n",
    "images.shape"
   ]
  },
  {
   "cell_type": "code",
   "execution_count": 8,
   "id": "0780c963",
   "metadata": {},
   "outputs": [
    {
     "data": {
      "text/plain": [
       "['Ankle boot',\n",
       " 'Bag',\n",
       " 'Coat',\n",
       " 'Dress',\n",
       " 'Pullover',\n",
       " 'Sandal',\n",
       " 'Shirt',\n",
       " 'Sneaker',\n",
       " 'T-shirt or Top',\n",
       " 'Trouser']"
      ]
     },
     "execution_count": 8,
     "metadata": {},
     "output_type": "execute_result"
    }
   ],
   "source": [
    "label2cat = train_set.classes\n",
    "label2cat"
   ]
  },
  {
   "cell_type": "markdown",
   "id": "0097a251",
   "metadata": {},
   "source": [
    "# Arsitektur dan Config"
   ]
  },
  {
   "cell_type": "code",
   "execution_count": 9,
   "id": "da931da7",
   "metadata": {},
   "outputs": [],
   "source": [
    "from jcopdl.layers import linear_block"
   ]
  },
  {
   "cell_type": "code",
   "execution_count": 10,
   "id": "0b842d12",
   "metadata": {},
   "outputs": [],
   "source": [
    "class FashionClassifier(nn.Module):\n",
    "    def __init__(self, input_size, n1, n2, output_size, dropout=0.2):\n",
    "        super().__init__()\n",
    "        self.fc = nn.Sequential(\n",
    "            nn.Flatten(),\n",
    "            linear_block(input_size, n1, dropout=dropout),\n",
    "            linear_block(n1, n2, dropout=dropout),\n",
    "            linear_block(n2, output_size, activation=\"lsoftmax\"),\n",
    "        )\n",
    "        \n",
    "    def forward(self, x):\n",
    "        return self.fc(x)"
   ]
  },
  {
   "cell_type": "code",
   "execution_count": 11,
   "id": "31a9149b",
   "metadata": {},
   "outputs": [],
   "source": [
    "config = set_config({\n",
    "    \"input_size\": 784,\n",
    "    \"n1\": 256,\n",
    "    \"n2\": 64,\n",
    "    \"output_size\": len(train_set.classes),\n",
    "    \"dropout\": 0.2,\n",
    "})"
   ]
  },
  {
   "cell_type": "markdown",
   "id": "4b584e50",
   "metadata": {},
   "source": [
    "# Training Preparation => MCOC"
   ]
  },
  {
   "cell_type": "code",
   "execution_count": 12,
   "id": "c9a5522a",
   "metadata": {},
   "outputs": [],
   "source": [
    "model = FashionClassifier(config.input_size, config.n1, config.n2, config.output_size, config.dropout).to(device)\n",
    "criterion = nn.NLLLoss()\n",
    "optimizer = optim.AdamW(model.parameters(), lr=0.001)\n",
    "callback = Callback(model, config, outdir=\"model\")"
   ]
  },
  {
   "cell_type": "markdown",
   "id": "ed164f17",
   "metadata": {},
   "source": [
    "# Training"
   ]
  },
  {
   "cell_type": "code",
   "execution_count": 13,
   "id": "b85cb903",
   "metadata": {},
   "outputs": [],
   "source": [
    "from tqdm.notebook import tqdm\n",
    "\n",
    "def loop_fn(mode, dataset, dataloader, model, criterion, optimizer, device):\n",
    "    if mode == \"train\":\n",
    "        model.train()\n",
    "    elif mode == \"test\":\n",
    "        model.eval()\n",
    "    cost = correct = 0\n",
    "    for feature, target in tqdm(dataloader, desc=mode.title()):\n",
    "        feature, target = feature.to(device), target.to(device)\n",
    "        output = model(feature)\n",
    "        loss = criterion(output, target)\n",
    "        \n",
    "        if mode == \"train\":\n",
    "            loss.backward()\n",
    "            optimizer.step()\n",
    "            optimizer.zero_grad()\n",
    "        \n",
    "        cost += loss.item() * feature.shape[0]\n",
    "        correct += (output.argmax(1) == target).sum().item()\n",
    "    cost = cost / len(dataset)\n",
    "    acc = correct / len(dataset)\n",
    "    return cost, acc"
   ]
  },
  {
   "cell_type": "code",
   "execution_count": 14,
   "id": "3b808092",
   "metadata": {
    "scrolled": true
   },
   "outputs": [
    {
     "data": {
      "application/vnd.jupyter.widget-view+json": {
       "model_id": "089496bf209b4000baf7ab7f0b97c6c8",
       "version_major": 2,
       "version_minor": 0
      },
      "text/plain": [
       "Train:   0%|          | 0/313 [00:00<?, ?it/s]"
      ]
     },
     "metadata": {},
     "output_type": "display_data"
    },
    {
     "data": {
      "application/vnd.jupyter.widget-view+json": {
       "model_id": "079ac288db4d4d1baf212a36a6ff57c0",
       "version_major": 2,
       "version_minor": 0
      },
      "text/plain": [
       "Test:   0%|          | 0/157 [00:00<?, ?it/s]"
      ]
     },
     "metadata": {},
     "output_type": "display_data"
    },
    {
     "name": "stdout",
     "output_type": "stream",
     "text": [
      "\n",
      "Epoch     1\n",
      "Train_cost  = 0.7368 | Test_cost  = 0.4727 | Train_score = 0.7385 | Test_score = 0.8328 |\n"
     ]
    },
    {
     "data": {
      "application/vnd.jupyter.widget-view+json": {
       "model_id": "251e2a7b9718443e9d6895e1950cfc07",
       "version_major": 2,
       "version_minor": 0
      },
      "text/plain": [
       "Train:   0%|          | 0/313 [00:00<?, ?it/s]"
      ]
     },
     "metadata": {},
     "output_type": "display_data"
    },
    {
     "data": {
      "application/vnd.jupyter.widget-view+json": {
       "model_id": "318db7da1bac4ee1884ef58d4dc76b82",
       "version_major": 2,
       "version_minor": 0
      },
      "text/plain": [
       "Test:   0%|          | 0/157 [00:00<?, ?it/s]"
      ]
     },
     "metadata": {},
     "output_type": "display_data"
    },
    {
     "name": "stdout",
     "output_type": "stream",
     "text": [
      "\n",
      "Epoch     2\n",
      "Train_cost  = 0.4757 | Test_cost  = 0.3998 | Train_score = 0.8330 | Test_score = 0.8547 |\n"
     ]
    },
    {
     "data": {
      "application/vnd.jupyter.widget-view+json": {
       "model_id": "763a9510a2a94392bcbd7e97305dda01",
       "version_major": 2,
       "version_minor": 0
      },
      "text/plain": [
       "Train:   0%|          | 0/313 [00:00<?, ?it/s]"
      ]
     },
     "metadata": {},
     "output_type": "display_data"
    },
    {
     "data": {
      "application/vnd.jupyter.widget-view+json": {
       "model_id": "3c8fbc18ef36441c870ae9d9aa6a199a",
       "version_major": 2,
       "version_minor": 0
      },
      "text/plain": [
       "Test:   0%|          | 0/157 [00:00<?, ?it/s]"
      ]
     },
     "metadata": {},
     "output_type": "display_data"
    },
    {
     "name": "stdout",
     "output_type": "stream",
     "text": [
      "\n",
      "Epoch     3\n",
      "Train_cost  = 0.4235 | Test_cost  = 0.3656 | Train_score = 0.8500 | Test_score = 0.8660 |\n"
     ]
    },
    {
     "data": {
      "application/vnd.jupyter.widget-view+json": {
       "model_id": "d3074d2840e84ab294ffcaf2750f1387",
       "version_major": 2,
       "version_minor": 0
      },
      "text/plain": [
       "Train:   0%|          | 0/313 [00:00<?, ?it/s]"
      ]
     },
     "metadata": {},
     "output_type": "display_data"
    },
    {
     "data": {
      "application/vnd.jupyter.widget-view+json": {
       "model_id": "6b810be1fca24470b7a18ec341b3f2d8",
       "version_major": 2,
       "version_minor": 0
      },
      "text/plain": [
       "Test:   0%|          | 0/157 [00:00<?, ?it/s]"
      ]
     },
     "metadata": {},
     "output_type": "display_data"
    },
    {
     "name": "stdout",
     "output_type": "stream",
     "text": [
      "\n",
      "Epoch     4\n",
      "Train_cost  = 0.3902 | Test_cost  = 0.3576 | Train_score = 0.8604 | Test_score = 0.8691 |\n"
     ]
    },
    {
     "data": {
      "application/vnd.jupyter.widget-view+json": {
       "model_id": "b5bfa2c86c72472f8f7da003504564f4",
       "version_major": 2,
       "version_minor": 0
      },
      "text/plain": [
       "Train:   0%|          | 0/313 [00:00<?, ?it/s]"
      ]
     },
     "metadata": {},
     "output_type": "display_data"
    },
    {
     "data": {
      "application/vnd.jupyter.widget-view+json": {
       "model_id": "5a22c9199ec140be81ddbe8849c62811",
       "version_major": 2,
       "version_minor": 0
      },
      "text/plain": [
       "Test:   0%|          | 0/157 [00:00<?, ?it/s]"
      ]
     },
     "metadata": {},
     "output_type": "display_data"
    },
    {
     "name": "stdout",
     "output_type": "stream",
     "text": [
      "\n",
      "Epoch     5\n",
      "Train_cost  = 0.3679 | Test_cost  = 0.3615 | Train_score = 0.8690 | Test_score = 0.8663 |\n",
      "\u001b[31m==> EarlyStop patience =  1 | Best test_score: 0.8691\u001b[0m\n"
     ]
    },
    {
     "data": {
      "application/vnd.jupyter.widget-view+json": {
       "model_id": "15140e82728e48dabb12b35a0634826f",
       "version_major": 2,
       "version_minor": 0
      },
      "text/plain": [
       "Train:   0%|          | 0/313 [00:00<?, ?it/s]"
      ]
     },
     "metadata": {},
     "output_type": "display_data"
    },
    {
     "data": {
      "application/vnd.jupyter.widget-view+json": {
       "model_id": "99978bb81d5448eeb7ac81491ad35cca",
       "version_major": 2,
       "version_minor": 0
      },
      "text/plain": [
       "Test:   0%|          | 0/157 [00:00<?, ?it/s]"
      ]
     },
     "metadata": {},
     "output_type": "display_data"
    },
    {
     "name": "stdout",
     "output_type": "stream",
     "text": [
      "\n",
      "Epoch     6\n",
      "Train_cost  = 0.3550 | Test_cost  = 0.3424 | Train_score = 0.8719 | Test_score = 0.8735 |\n"
     ]
    },
    {
     "data": {
      "application/vnd.jupyter.widget-view+json": {
       "model_id": "51ea9f72345140baa500c7de4c89a715",
       "version_major": 2,
       "version_minor": 0
      },
      "text/plain": [
       "Train:   0%|          | 0/313 [00:00<?, ?it/s]"
      ]
     },
     "metadata": {},
     "output_type": "display_data"
    },
    {
     "data": {
      "application/vnd.jupyter.widget-view+json": {
       "model_id": "426500e4efa841f0ac12f3d6ad7f5653",
       "version_major": 2,
       "version_minor": 0
      },
      "text/plain": [
       "Test:   0%|          | 0/157 [00:00<?, ?it/s]"
      ]
     },
     "metadata": {},
     "output_type": "display_data"
    },
    {
     "name": "stdout",
     "output_type": "stream",
     "text": [
      "\n",
      "Epoch     7\n",
      "Train_cost  = 0.3383 | Test_cost  = 0.3221 | Train_score = 0.8769 | Test_score = 0.8804 |\n"
     ]
    },
    {
     "data": {
      "application/vnd.jupyter.widget-view+json": {
       "model_id": "8245021a325745bf8dc4ffd87314dda1",
       "version_major": 2,
       "version_minor": 0
      },
      "text/plain": [
       "Train:   0%|          | 0/313 [00:00<?, ?it/s]"
      ]
     },
     "metadata": {},
     "output_type": "display_data"
    },
    {
     "data": {
      "application/vnd.jupyter.widget-view+json": {
       "model_id": "afdd4ef3da00420faa50792927680b4c",
       "version_major": 2,
       "version_minor": 0
      },
      "text/plain": [
       "Test:   0%|          | 0/157 [00:00<?, ?it/s]"
      ]
     },
     "metadata": {},
     "output_type": "display_data"
    },
    {
     "name": "stdout",
     "output_type": "stream",
     "text": [
      "\n",
      "Epoch     8\n",
      "Train_cost  = 0.3289 | Test_cost  = 0.3281 | Train_score = 0.8809 | Test_score = 0.8786 |\n",
      "\u001b[31m==> EarlyStop patience =  1 | Best test_score: 0.8804\u001b[0m\n"
     ]
    },
    {
     "data": {
      "application/vnd.jupyter.widget-view+json": {
       "model_id": "8a5d61288c40452499ab9e2105d5cd32",
       "version_major": 2,
       "version_minor": 0
      },
      "text/plain": [
       "Train:   0%|          | 0/313 [00:00<?, ?it/s]"
      ]
     },
     "metadata": {},
     "output_type": "display_data"
    },
    {
     "data": {
      "application/vnd.jupyter.widget-view+json": {
       "model_id": "58a0b5f682554dc6a9ac164d6c32b181",
       "version_major": 2,
       "version_minor": 0
      },
      "text/plain": [
       "Test:   0%|          | 0/157 [00:00<?, ?it/s]"
      ]
     },
     "metadata": {},
     "output_type": "display_data"
    },
    {
     "name": "stdout",
     "output_type": "stream",
     "text": [
      "\n",
      "Epoch     9\n",
      "Train_cost  = 0.3155 | Test_cost  = 0.3259 | Train_score = 0.8851 | Test_score = 0.8792 |\n",
      "\u001b[31m==> EarlyStop patience =  2 | Best test_score: 0.8804\u001b[0m\n"
     ]
    },
    {
     "data": {
      "application/vnd.jupyter.widget-view+json": {
       "model_id": "1d8a4c44b11640f8a190767d445659be",
       "version_major": 2,
       "version_minor": 0
      },
      "text/plain": [
       "Train:   0%|          | 0/313 [00:00<?, ?it/s]"
      ]
     },
     "metadata": {},
     "output_type": "display_data"
    },
    {
     "data": {
      "application/vnd.jupyter.widget-view+json": {
       "model_id": "b3ba265985424bf5bf984a4fa528bdb3",
       "version_major": 2,
       "version_minor": 0
      },
      "text/plain": [
       "Test:   0%|          | 0/157 [00:00<?, ?it/s]"
      ]
     },
     "metadata": {},
     "output_type": "display_data"
    },
    {
     "name": "stdout",
     "output_type": "stream",
     "text": [
      "\n",
      "Epoch    10\n",
      "Train_cost  = 0.3077 | Test_cost  = 0.3386 | Train_score = 0.8869 | Test_score = 0.8752 |\n",
      "\u001b[31m==> EarlyStop patience =  3 | Best test_score: 0.8804\u001b[0m\n"
     ]
    },
    {
     "data": {
      "application/vnd.jupyter.widget-view+json": {
       "model_id": "f3bdefaf4a6d4c96b50cb7f9b5b8f204",
       "version_major": 2,
       "version_minor": 0
      },
      "text/plain": [
       "Train:   0%|          | 0/313 [00:00<?, ?it/s]"
      ]
     },
     "metadata": {},
     "output_type": "display_data"
    },
    {
     "data": {
      "application/vnd.jupyter.widget-view+json": {
       "model_id": "327ab218cb2f42acbc69f80e5fca764b",
       "version_major": 2,
       "version_minor": 0
      },
      "text/plain": [
       "Test:   0%|          | 0/157 [00:00<?, ?it/s]"
      ]
     },
     "metadata": {},
     "output_type": "display_data"
    },
    {
     "name": "stdout",
     "output_type": "stream",
     "text": [
      "\n",
      "Epoch    11\n",
      "Train_cost  = 0.3015 | Test_cost  = 0.3198 | Train_score = 0.8902 | Test_score = 0.8798 |\n",
      "\u001b[31m==> EarlyStop patience =  4 | Best test_score: 0.8804\u001b[0m\n"
     ]
    },
    {
     "data": {
      "application/vnd.jupyter.widget-view+json": {
       "model_id": "0540201f369c4097a4f3e91395c2dc29",
       "version_major": 2,
       "version_minor": 0
      },
      "text/plain": [
       "Train:   0%|          | 0/313 [00:00<?, ?it/s]"
      ]
     },
     "metadata": {},
     "output_type": "display_data"
    },
    {
     "data": {
      "application/vnd.jupyter.widget-view+json": {
       "model_id": "3fb68cae11cc4b2f9449c48c08ee700f",
       "version_major": 2,
       "version_minor": 0
      },
      "text/plain": [
       "Test:   0%|          | 0/157 [00:00<?, ?it/s]"
      ]
     },
     "metadata": {},
     "output_type": "display_data"
    },
    {
     "name": "stdout",
     "output_type": "stream",
     "text": [
      "\n",
      "Epoch    12\n",
      "Train_cost  = 0.2942 | Test_cost  = 0.3152 | Train_score = 0.8928 | Test_score = 0.8848 |\n"
     ]
    },
    {
     "data": {
      "application/vnd.jupyter.widget-view+json": {
       "model_id": "6f4642a998ee46fbb351e70cc42dd97f",
       "version_major": 2,
       "version_minor": 0
      },
      "text/plain": [
       "Train:   0%|          | 0/313 [00:00<?, ?it/s]"
      ]
     },
     "metadata": {},
     "output_type": "display_data"
    },
    {
     "data": {
      "application/vnd.jupyter.widget-view+json": {
       "model_id": "05bbf19ebcba4ec0ae190a294625370f",
       "version_major": 2,
       "version_minor": 0
      },
      "text/plain": [
       "Test:   0%|          | 0/157 [00:00<?, ?it/s]"
      ]
     },
     "metadata": {},
     "output_type": "display_data"
    },
    {
     "name": "stdout",
     "output_type": "stream",
     "text": [
      "\n",
      "Epoch    13\n",
      "Train_cost  = 0.2853 | Test_cost  = 0.3143 | Train_score = 0.8944 | Test_score = 0.8842 |\n",
      "\u001b[31m==> EarlyStop patience =  1 | Best test_score: 0.8848\u001b[0m\n"
     ]
    },
    {
     "data": {
      "application/vnd.jupyter.widget-view+json": {
       "model_id": "5ecc18983a1840199df47831a01e8ed2",
       "version_major": 2,
       "version_minor": 0
      },
      "text/plain": [
       "Train:   0%|          | 0/313 [00:00<?, ?it/s]"
      ]
     },
     "metadata": {},
     "output_type": "display_data"
    },
    {
     "data": {
      "application/vnd.jupyter.widget-view+json": {
       "model_id": "95539921ef704058879115c82e759234",
       "version_major": 2,
       "version_minor": 0
      },
      "text/plain": [
       "Test:   0%|          | 0/157 [00:00<?, ?it/s]"
      ]
     },
     "metadata": {},
     "output_type": "display_data"
    },
    {
     "name": "stdout",
     "output_type": "stream",
     "text": [
      "\n",
      "Epoch    14\n",
      "Train_cost  = 0.2817 | Test_cost  = 0.3064 | Train_score = 0.8958 | Test_score = 0.8868 |\n"
     ]
    },
    {
     "data": {
      "application/vnd.jupyter.widget-view+json": {
       "model_id": "03720214589e4e7ba49747f52ed78f97",
       "version_major": 2,
       "version_minor": 0
      },
      "text/plain": [
       "Train:   0%|          | 0/313 [00:00<?, ?it/s]"
      ]
     },
     "metadata": {},
     "output_type": "display_data"
    },
    {
     "data": {
      "application/vnd.jupyter.widget-view+json": {
       "model_id": "67de6c20505242fba529f7e7a9b26802",
       "version_major": 2,
       "version_minor": 0
      },
      "text/plain": [
       "Test:   0%|          | 0/157 [00:00<?, ?it/s]"
      ]
     },
     "metadata": {},
     "output_type": "display_data"
    },
    {
     "name": "stdout",
     "output_type": "stream",
     "text": [
      "\n",
      "Epoch    15\n",
      "Train_cost  = 0.2744 | Test_cost  = 0.3108 | Train_score = 0.8989 | Test_score = 0.8860 |\n",
      "\u001b[31m==> EarlyStop patience =  1 | Best test_score: 0.8868\u001b[0m\n"
     ]
    },
    {
     "data": {
      "application/vnd.jupyter.widget-view+json": {
       "model_id": "d7bd289fe680455bae21de7e6912c987",
       "version_major": 2,
       "version_minor": 0
      },
      "text/plain": [
       "Train:   0%|          | 0/313 [00:00<?, ?it/s]"
      ]
     },
     "metadata": {},
     "output_type": "display_data"
    },
    {
     "data": {
      "application/vnd.jupyter.widget-view+json": {
       "model_id": "1e271ab69628439bb1135029d8df372f",
       "version_major": 2,
       "version_minor": 0
      },
      "text/plain": [
       "Test:   0%|          | 0/157 [00:00<?, ?it/s]"
      ]
     },
     "metadata": {},
     "output_type": "display_data"
    },
    {
     "name": "stdout",
     "output_type": "stream",
     "text": [
      "\n",
      "Epoch    16\n",
      "Train_cost  = 0.2686 | Test_cost  = 0.3072 | Train_score = 0.9011 | Test_score = 0.8882 |\n"
     ]
    },
    {
     "data": {
      "application/vnd.jupyter.widget-view+json": {
       "model_id": "13a6714093a045c78da54e3d25a1d264",
       "version_major": 2,
       "version_minor": 0
      },
      "text/plain": [
       "Train:   0%|          | 0/313 [00:00<?, ?it/s]"
      ]
     },
     "metadata": {},
     "output_type": "display_data"
    },
    {
     "data": {
      "application/vnd.jupyter.widget-view+json": {
       "model_id": "f2e40e294cf64e6096ea7d28c7581e0b",
       "version_major": 2,
       "version_minor": 0
      },
      "text/plain": [
       "Test:   0%|          | 0/157 [00:00<?, ?it/s]"
      ]
     },
     "metadata": {},
     "output_type": "display_data"
    },
    {
     "name": "stdout",
     "output_type": "stream",
     "text": [
      "\n",
      "Epoch    17\n",
      "Train_cost  = 0.2638 | Test_cost  = 0.3086 | Train_score = 0.9022 | Test_score = 0.8891 |\n"
     ]
    },
    {
     "data": {
      "application/vnd.jupyter.widget-view+json": {
       "model_id": "96ca30a61dd5434badd2015d4d051de8",
       "version_major": 2,
       "version_minor": 0
      },
      "text/plain": [
       "Train:   0%|          | 0/313 [00:00<?, ?it/s]"
      ]
     },
     "metadata": {},
     "output_type": "display_data"
    },
    {
     "data": {
      "application/vnd.jupyter.widget-view+json": {
       "model_id": "50f03ed3ff4146c79ca763b2372327ab",
       "version_major": 2,
       "version_minor": 0
      },
      "text/plain": [
       "Test:   0%|          | 0/157 [00:00<?, ?it/s]"
      ]
     },
     "metadata": {},
     "output_type": "display_data"
    },
    {
     "name": "stdout",
     "output_type": "stream",
     "text": [
      "\n",
      "Epoch    18\n",
      "Train_cost  = 0.2630 | Test_cost  = 0.3165 | Train_score = 0.9023 | Test_score = 0.8816 |\n",
      "\u001b[31m==> EarlyStop patience =  1 | Best test_score: 0.8891\u001b[0m\n"
     ]
    },
    {
     "data": {
      "application/vnd.jupyter.widget-view+json": {
       "model_id": "4845d0e026934d758970564b34ef31ab",
       "version_major": 2,
       "version_minor": 0
      },
      "text/plain": [
       "Train:   0%|          | 0/313 [00:00<?, ?it/s]"
      ]
     },
     "metadata": {},
     "output_type": "display_data"
    },
    {
     "data": {
      "application/vnd.jupyter.widget-view+json": {
       "model_id": "cf35f303049c40a180a47af663b2d245",
       "version_major": 2,
       "version_minor": 0
      },
      "text/plain": [
       "Test:   0%|          | 0/157 [00:00<?, ?it/s]"
      ]
     },
     "metadata": {},
     "output_type": "display_data"
    },
    {
     "name": "stdout",
     "output_type": "stream",
     "text": [
      "\n",
      "Epoch    19\n",
      "Train_cost  = 0.2563 | Test_cost  = 0.3099 | Train_score = 0.9039 | Test_score = 0.8883 |\n",
      "\u001b[31m==> EarlyStop patience =  2 | Best test_score: 0.8891\u001b[0m\n"
     ]
    },
    {
     "data": {
      "application/vnd.jupyter.widget-view+json": {
       "model_id": "7ea469b7373141c69bb98bd09801743c",
       "version_major": 2,
       "version_minor": 0
      },
      "text/plain": [
       "Train:   0%|          | 0/313 [00:00<?, ?it/s]"
      ]
     },
     "metadata": {},
     "output_type": "display_data"
    },
    {
     "data": {
      "application/vnd.jupyter.widget-view+json": {
       "model_id": "91c863484279442fa83a1b329e897fbe",
       "version_major": 2,
       "version_minor": 0
      },
      "text/plain": [
       "Test:   0%|          | 0/157 [00:00<?, ?it/s]"
      ]
     },
     "metadata": {},
     "output_type": "display_data"
    },
    {
     "name": "stdout",
     "output_type": "stream",
     "text": [
      "\n",
      "Epoch    20\n",
      "Train_cost  = 0.2523 | Test_cost  = 0.3135 | Train_score = 0.9053 | Test_score = 0.8886 |\n"
     ]
    },
    {
     "data": {
      "image/png": "[encoded data removed]",
      "text/plain": [
       "<Figure size 800x500 with 1 Axes>"
      ]
     },
     "metadata": {},
     "output_type": "display_data"
    },
    {
     "data": {
      "image/png": "[encoded data removed]",
      "text/plain": [
       "<Figure size 800x500 with 1 Axes>"
      ]
     },
     "metadata": {},
     "output_type": "display_data"
    },
    {
     "name": "stdout",
     "output_type": "stream",
     "text": [
      "\u001b[31m==> EarlyStop patience =  3 | Best test_score: 0.8891\u001b[0m\n"
     ]
    },
    {
     "data": {
      "application/vnd.jupyter.widget-view+json": {
       "model_id": "69b1135ab5ad4e60879002a8c798c748",
       "version_major": 2,
       "version_minor": 0
      },
      "text/plain": [
       "Train:   0%|          | 0/313 [00:00<?, ?it/s]"
      ]
     },
     "metadata": {},
     "output_type": "display_data"
    },
    {
     "data": {
      "application/vnd.jupyter.widget-view+json": {
       "model_id": "ce6008b2e9d240778836413d1d2b8707",
       "version_major": 2,
       "version_minor": 0
      },
      "text/plain": [
       "Test:   0%|          | 0/157 [00:00<?, ?it/s]"
      ]
     },
     "metadata": {},
     "output_type": "display_data"
    },
    {
     "name": "stdout",
     "output_type": "stream",
     "text": [
      "\n",
      "Epoch    21\n",
      "Train_cost  = 0.2441 | Test_cost  = 0.3027 | Train_score = 0.9071 | Test_score = 0.8911 |\n"
     ]
    },
    {
     "data": {
      "application/vnd.jupyter.widget-view+json": {
       "model_id": "6724db5153ca493896e822522aff0f6a",
       "version_major": 2,
       "version_minor": 0
      },
      "text/plain": [
       "Train:   0%|          | 0/313 [00:00<?, ?it/s]"
      ]
     },
     "metadata": {},
     "output_type": "display_data"
    },
    {
     "data": {
      "application/vnd.jupyter.widget-view+json": {
       "model_id": "1caa4a541990417982c72085d76669fd",
       "version_major": 2,
       "version_minor": 0
      },
      "text/plain": [
       "Test:   0%|          | 0/157 [00:00<?, ?it/s]"
      ]
     },
     "metadata": {},
     "output_type": "display_data"
    },
    {
     "name": "stdout",
     "output_type": "stream",
     "text": [
      "\n",
      "Epoch    22\n",
      "Train_cost  = 0.2381 | Test_cost  = 0.3125 | Train_score = 0.9103 | Test_score = 0.8871 |\n",
      "\u001b[31m==> EarlyStop patience =  1 | Best test_score: 0.8911\u001b[0m\n"
     ]
    },
    {
     "data": {
      "application/vnd.jupyter.widget-view+json": {
       "model_id": "09ccc128c1694e498d7442d947dd99e5",
       "version_major": 2,
       "version_minor": 0
      },
      "text/plain": [
       "Train:   0%|          | 0/313 [00:00<?, ?it/s]"
      ]
     },
     "metadata": {},
     "output_type": "display_data"
    },
    {
     "data": {
      "application/vnd.jupyter.widget-view+json": {
       "model_id": "e09cb6411c0e44f49c7f79487b2ca761",
       "version_major": 2,
       "version_minor": 0
      },
      "text/plain": [
       "Test:   0%|          | 0/157 [00:00<?, ?it/s]"
      ]
     },
     "metadata": {},
     "output_type": "display_data"
    },
    {
     "name": "stdout",
     "output_type": "stream",
     "text": [
      "\n",
      "Epoch    23\n",
      "Train_cost  = 0.2387 | Test_cost  = 0.3012 | Train_score = 0.9104 | Test_score = 0.8927 |\n"
     ]
    },
    {
     "data": {
      "application/vnd.jupyter.widget-view+json": {
       "model_id": "3727dc02803a44ddb7682052c50874b2",
       "version_major": 2,
       "version_minor": 0
      },
      "text/plain": [
       "Train:   0%|          | 0/313 [00:00<?, ?it/s]"
      ]
     },
     "metadata": {},
     "output_type": "display_data"
    },
    {
     "data": {
      "application/vnd.jupyter.widget-view+json": {
       "model_id": "5b9f5b4009c545b29d5bf092b954d928",
       "version_major": 2,
       "version_minor": 0
      },
      "text/plain": [
       "Test:   0%|          | 0/157 [00:00<?, ?it/s]"
      ]
     },
     "metadata": {},
     "output_type": "display_data"
    },
    {
     "name": "stdout",
     "output_type": "stream",
     "text": [
      "\n",
      "Epoch    24\n",
      "Train_cost  = 0.2339 | Test_cost  = 0.3063 | Train_score = 0.9117 | Test_score = 0.8908 |\n",
      "\u001b[31m==> EarlyStop patience =  1 | Best test_score: 0.8927\u001b[0m\n"
     ]
    },
    {
     "data": {
      "application/vnd.jupyter.widget-view+json": {
       "model_id": "80a7c023291b47288b28814db47a73d4",
       "version_major": 2,
       "version_minor": 0
      },
      "text/plain": [
       "Train:   0%|          | 0/313 [00:00<?, ?it/s]"
      ]
     },
     "metadata": {},
     "output_type": "display_data"
    },
    {
     "data": {
      "application/vnd.jupyter.widget-view+json": {
       "model_id": "4ca20ab637784871a43c1ea2f5e2e20a",
       "version_major": 2,
       "version_minor": 0
      },
      "text/plain": [
       "Test:   0%|          | 0/157 [00:00<?, ?it/s]"
      ]
     },
     "metadata": {},
     "output_type": "display_data"
    },
    {
     "name": "stdout",
     "output_type": "stream",
     "text": [
      "\n",
      "Epoch    25\n",
      "Train_cost  = 0.2287 | Test_cost  = 0.3151 | Train_score = 0.9149 | Test_score = 0.8923 |\n",
      "\u001b[31m==> EarlyStop patience =  2 | Best test_score: 0.8927\u001b[0m\n"
     ]
    },
    {
     "data": {
      "application/vnd.jupyter.widget-view+json": {
       "model_id": "95b66b23c60b42fea30a9d534c4c2476",
       "version_major": 2,
       "version_minor": 0
      },
      "text/plain": [
       "Train:   0%|          | 0/313 [00:00<?, ?it/s]"
      ]
     },
     "metadata": {},
     "output_type": "display_data"
    },
    {
     "data": {
      "application/vnd.jupyter.widget-view+json": {
       "model_id": "21f534edfa504f758f5175b6822bc7db",
       "version_major": 2,
       "version_minor": 0
      },
      "text/plain": [
       "Test:   0%|          | 0/157 [00:00<?, ?it/s]"
      ]
     },
     "metadata": {},
     "output_type": "display_data"
    },
    {
     "name": "stdout",
     "output_type": "stream",
     "text": [
      "\n",
      "Epoch    26\n",
      "Train_cost  = 0.2280 | Test_cost  = 0.3015 | Train_score = 0.9154 | Test_score = 0.8922 |\n",
      "\u001b[31m==> EarlyStop patience =  3 | Best test_score: 0.8927\u001b[0m\n"
     ]
    },
    {
     "data": {
      "application/vnd.jupyter.widget-view+json": {
       "model_id": "d5b7394117d4472c86406ccb300a8a84",
       "version_major": 2,
       "version_minor": 0
      },
      "text/plain": [
       "Train:   0%|          | 0/313 [00:00<?, ?it/s]"
      ]
     },
     "metadata": {},
     "output_type": "display_data"
    },
    {
     "data": {
      "application/vnd.jupyter.widget-view+json": {
       "model_id": "c1943356b8ba4cf5936b456cbe0d4d34",
       "version_major": 2,
       "version_minor": 0
      },
      "text/plain": [
       "Test:   0%|          | 0/157 [00:00<?, ?it/s]"
      ]
     },
     "metadata": {},
     "output_type": "display_data"
    },
    {
     "name": "stdout",
     "output_type": "stream",
     "text": [
      "\n",
      "Epoch    27\n",
      "Train_cost  = 0.2265 | Test_cost  = 0.3106 | Train_score = 0.9157 | Test_score = 0.8910 |\n",
      "\u001b[31m==> EarlyStop patience =  4 | Best test_score: 0.8927\u001b[0m\n"
     ]
    },
    {
     "data": {
      "application/vnd.jupyter.widget-view+json": {
       "model_id": "76935919eaaa4f358e1d168955707d8c",
       "version_major": 2,
       "version_minor": 0
      },
      "text/plain": [
       "Train:   0%|          | 0/313 [00:00<?, ?it/s]"
      ]
     },
     "metadata": {},
     "output_type": "display_data"
    },
    {
     "data": {
      "application/vnd.jupyter.widget-view+json": {
       "model_id": "304c516078de462498fa3c3da4efa158",
       "version_major": 2,
       "version_minor": 0
      },
      "text/plain": [
       "Test:   0%|          | 0/157 [00:00<?, ?it/s]"
      ]
     },
     "metadata": {},
     "output_type": "display_data"
    },
    {
     "name": "stdout",
     "output_type": "stream",
     "text": [
      "\n",
      "Epoch    28\n",
      "Train_cost  = 0.2181 | Test_cost  = 0.3152 | Train_score = 0.9189 | Test_score = 0.8915 |\n",
      "\u001b[31m==> EarlyStop patience =  5 | Best test_score: 0.8927\u001b[0m\n",
      "\u001b[31m==> Execute Early Stopping at epoch: 28 | Best test_score: 0.8927\u001b[0m\n",
      "\u001b[31m==> Best model is saved at model\u001b[0m\n"
     ]
    },
    {
     "data": {
      "image/png": "[encoded data removed]",
      "text/plain": [
       "<Figure size 800x500 with 1 Axes>"
      ]
     },
     "metadata": {},
     "output_type": "display_data"
    },
    {
     "data": {
      "image/png": "[encoded data removed]",
      "text/plain": [
       "<Figure size 800x500 with 1 Axes>"
      ]
     },
     "metadata": {},
     "output_type": "display_data"
    }
   ],
   "source": [
    "while True:\n",
    "    train_cost, train_score = loop_fn(\"train\", train_set, trainloader, model, criterion, optimizer, device)\n",
    "    with torch.no_grad():\n",
    "        test_cost, test_score = loop_fn(\"test\", test_set, testloader, model, criterion, optimizer, device)\n",
    "        \n",
    "    # Logging\n",
    "    callback.log(train_cost, test_cost, train_score, test_score)\n",
    "    \n",
    "    # Checkpoint\n",
    "    callback.save_checkpoint()\n",
    "    \n",
    "    # Runtime Plotting\n",
    "    callback.cost_runtime_plotting()\n",
    "    callback.score_runtime_plotting()\n",
    "    \n",
    "    # Early Stopping\n",
    "    if callback.early_stopping(model, monitor=\"test_score\"):\n",
    "        callback.plot_cost()\n",
    "        callback.plot_score()\n",
    "        break"
   ]
  },
  {
   "cell_type": "markdown",
   "id": "af1e2361",
   "metadata": {},
   "source": [
    "# Load best Model"
   ]
  },
  {
   "cell_type": "code",
   "execution_count": 26,
   "id": "3ade40f9",
   "metadata": {},
   "outputs": [],
   "source": [
    "weights = torch.load(\"model/weights_best.pth\", map_location=\"cpu\")\n",
    "config = torch.load(\"model/configs.pth\", map_location=\"cpu\")\n",
    "\n",
    "model = FashionClassifier(config.input_size, config.n1, config.n2, config.output_size, config.dropout).to(device)\n",
    "model.load_state_dict(weights)\n",
    "model = model.to(device)"
   ]
  },
  {
   "cell_type": "code",
   "execution_count": 15,
   "id": "fa6373d8",
   "metadata": {},
   "outputs": [
    {
     "data": {
      "text/plain": [
       "FashionClassifier(\n",
       "  (fc): Sequential(\n",
       "    (0): Flatten(start_dim=1, end_dim=-1)\n",
       "    (1): LinearBlock(\n",
       "      (block): Sequential(\n",
       "        (linear): Linear(in_features=784, out_features=256, bias=True)\n",
       "        (relu): ReLU()\n",
       "        (do): Dropout(p=0.2, inplace=False)\n",
       "      )\n",
       "    )\n",
       "    (2): LinearBlock(\n",
       "      (block): Sequential(\n",
       "        (linear): Linear(in_features=256, out_features=64, bias=True)\n",
       "        (relu): ReLU()\n",
       "        (do): Dropout(p=0.2, inplace=False)\n",
       "      )\n",
       "    )\n",
       "    (3): LinearBlock(\n",
       "      (block): Sequential(\n",
       "        (linear): Linear(in_features=64, out_features=10, bias=True)\n",
       "        (lsoftmax): LogSoftmax(dim=1)\n",
       "      )\n",
       "    )\n",
       "  )\n",
       ")"
      ]
     },
     "execution_count": 15,
     "metadata": {},
     "output_type": "execute_result"
    }
   ],
   "source": [
    "model"
   ]
  },
  {
   "cell_type": "code",
   "execution_count": 16,
   "id": "02db06ec",
   "metadata": {},
   "outputs": [
    {
     "data": {
      "text/plain": [
       "OrderedDict([('fc.1.block.linear.weight',\n",
       "              tensor([[ 0.1416,  0.1051,  0.0681,  ...,  0.1313, -0.0927, -0.0066],\n",
       "                      [ 0.2470,  0.2899, -0.0575,  ..., -0.2168,  0.0602,  0.0735],\n",
       "                      [-0.3357, -0.0095, -0.1787,  ...,  0.0843,  0.0630,  0.3062],\n",
       "                      ...,\n",
       "                      [ 0.1062,  0.2969,  0.0791,  ...,  0.0247, -0.2261,  0.0533],\n",
       "                      [ 0.2788,  0.3618,  0.2567,  ..., -0.0365,  0.0201,  0.2713],\n",
       "                      [-0.0140,  0.0088,  0.0079,  ...,  0.0269,  0.0233, -0.0200]],\n",
       "                     device='cuda:0')),\n",
       "             ('fc.1.block.linear.bias',\n",
       "              tensor([ 0.5577, -0.1726,  0.1720, -0.0308,  0.1706,  0.1708,  0.3839,  0.2099,\n",
       "                      -0.2123, -0.0431, -0.0062,  0.1419, -0.1680, -0.0085,  0.4404, -0.0202,\n",
       "                       0.4653, -0.0055,  0.1501, -0.1577,  0.1805,  0.0035,  0.2586,  0.1642,\n",
       "                       0.1859, -0.3360, -0.1951,  0.3726, -0.1401, -0.2358,  0.3135,  0.2856,\n",
       "                      -0.1441, -0.0245,  0.1134,  0.5987,  0.3674, -0.2651,  0.0318, -0.0201,\n",
       "                       0.0157,  0.2282,  0.0357,  0.3309,  0.2641, -0.1966,  0.2516,  0.0683,\n",
       "                       0.0755,  0.0556,  0.1010, -0.0249, -0.0278, -0.0302, -0.0357, -0.3695,\n",
       "                       0.3007, -0.0245,  0.4320,  0.1309, -0.0195,  0.0250, -0.0056,  0.0655,\n",
       "                      -0.0334, -0.0168,  0.2944, -0.0515, -0.0365,  0.3951, -0.0624,  0.3586,\n",
       "                       0.1896,  0.1990,  0.3650, -0.0112, -0.0344,  0.0060,  0.2298,  0.1994,\n",
       "                      -0.0255, -0.0077,  0.2755, -0.0354,  0.2678, -0.1881, -0.0119, -0.0117,\n",
       "                       0.2474,  0.5458,  0.3056,  0.4936,  0.1956,  0.2377,  0.1890, -0.0989,\n",
       "                       0.1868, -0.1913,  0.1817, -0.0160,  0.2341,  0.0444, -0.1186,  0.1323,\n",
       "                       0.4762,  0.5051,  0.0420,  0.2025, -0.0145, -0.0335,  0.2169, -0.2635,\n",
       "                      -0.0320,  0.0396, -0.4626,  0.0624, -0.0596,  0.3206, -0.0212, -0.0722,\n",
       "                      -0.0835,  0.2748, -0.0170,  0.0077,  0.2473, -0.2391,  0.3570, -0.3306,\n",
       "                      -0.0420,  0.2506, -0.0465,  0.2192,  0.1256,  0.3306, -0.1867, -0.0020,\n",
       "                       0.0209, -0.0234, -0.0821,  0.0024, -0.0832,  0.1800, -0.1855, -0.2304,\n",
       "                      -0.1356,  0.1400, -0.0153,  0.1338,  0.0229,  0.0238,  0.0840,  0.1497,\n",
       "                      -0.0008, -0.1090,  0.0750, -0.0138,  0.4478, -0.0322,  0.3389, -0.0767,\n",
       "                       0.3341, -0.1768,  0.1486,  0.0861,  0.3465,  0.4442, -0.0193, -0.2043,\n",
       "                       0.0609, -0.0023,  0.2048, -0.0254,  0.1703, -0.0312,  0.1454,  0.0035,\n",
       "                       0.0985,  0.1333,  0.2679,  0.2934, -0.0294,  0.1764,  0.0327,  0.3337,\n",
       "                       0.0490, -0.0015, -0.0106, -0.1875, -0.1434,  0.0087, -0.0266, -0.0121,\n",
       "                       0.1574, -0.0236, -0.3464,  0.2106,  0.4986,  0.3145,  0.3968,  0.0770,\n",
       "                       0.0857,  0.2357, -0.0048, -0.2570, -0.0150, -0.0095,  0.1030, -0.5422,\n",
       "                       0.1653, -0.0063, -0.0354, -0.2168,  0.2096, -0.0633, -0.0578, -0.0308,\n",
       "                      -0.3605, -0.2614, -0.0342, -0.3613, -0.0014,  0.1201, -0.1436, -0.0402,\n",
       "                       0.0413,  0.1936,  0.1328, -0.1079,  0.2952, -0.0957, -0.0286, -0.0216,\n",
       "                       0.3213,  0.1394,  0.1308, -0.2582,  0.3615,  0.0644,  0.3388,  0.0176,\n",
       "                       0.2659,  0.0882,  0.1991,  0.0105, -0.0872,  0.1282,  0.2254, -0.4622,\n",
       "                       0.0079,  0.3355, -0.0879, -0.3074,  0.2752,  0.5830,  0.1186, -0.0139],\n",
       "                     device='cuda:0')),\n",
       "             ('fc.2.block.linear.weight',\n",
       "              tensor([[ 0.0168,  0.0887,  0.0354,  ...,  0.1910, -0.1793,  0.0035],\n",
       "                      [ 0.0349,  0.1114, -0.1963,  ..., -0.0713, -0.0903,  0.0183],\n",
       "                      [ 0.1093,  0.0547, -0.0874,  ..., -0.0193, -0.0168,  0.0384],\n",
       "                      ...,\n",
       "                      [ 0.0224,  0.0741,  0.0166,  ...,  0.2358,  0.0454,  0.0428],\n",
       "                      [-0.0230,  0.0679, -0.0622,  ..., -0.0732, -0.0329, -0.0440],\n",
       "                      [ 0.0845, -0.2473,  0.0833,  ...,  0.1652,  0.0594,  0.0269]],\n",
       "                     device='cuda:0')),\n",
       "             ('fc.2.block.linear.bias',\n",
       "              tensor([ 0.0647,  0.3570,  0.2763,  0.2277,  0.3403,  0.0304, -0.0924,  0.1868,\n",
       "                       0.1144,  0.1611,  0.0338,  0.3565, -0.0984,  0.0386, -0.0119,  0.5342,\n",
       "                       0.2518,  0.1855,  0.2030,  0.0999,  0.2812, -0.0238,  0.3059, -0.0058,\n",
       "                       0.4166,  0.2894,  0.2484,  0.0168,  0.1189,  0.1602, -0.1069,  0.1671,\n",
       "                       0.2704,  0.5117,  0.2137,  0.3274,  0.1704,  0.3325,  0.2202,  0.2514,\n",
       "                      -0.0644,  0.3249,  0.2466,  0.1587, -0.1212,  0.2346,  0.2114,  0.2127,\n",
       "                       0.2238,  0.0838,  0.1005,  0.1362,  0.1002,  0.2863,  0.4085,  0.1866,\n",
       "                       0.1452,  0.0897,  0.2791,  0.4545,  0.1659,  0.2612,  0.0938,  0.3045],\n",
       "                     device='cuda:0')),\n",
       "             ('fc.3.block.linear.weight',\n",
       "              tensor([[-5.7805e-02, -5.6698e-01, -5.7553e-02,  3.0257e-02,  7.6795e-02,\n",
       "                       -2.5468e-01, -8.2262e-03,  1.3218e-01,  1.0682e-01, -1.9006e-01,\n",
       "                        9.3288e-02, -5.2500e-01,  1.6316e-01,  6.1939e-02, -1.9136e-01,\n",
       "                       -1.4232e-01, -5.7936e-01,  1.0341e-01, -3.7379e-01, -3.3885e-01,\n",
       "                        9.6661e-02,  5.7174e-02, -4.0276e-01, -4.6166e-01, -3.3125e-01,\n",
       "                       -9.7433e-02, -3.4398e-01,  1.9483e-02,  2.1522e-01,  1.0085e-01,\n",
       "                        1.1033e-01, -1.8156e-01, -3.1567e-01, -4.8415e-01,  1.6367e-01,\n",
       "                        1.5330e-01,  8.8012e-02, -2.4156e-02,  1.4331e-01,  3.0701e-02,\n",
       "                        1.3717e-01, -5.8813e-01, -4.9247e-01,  1.3480e-01, -4.5220e-01,\n",
       "                        1.4893e-01,  1.2966e-01, -5.5853e-01,  1.1010e-01, -3.4412e-01,\n",
       "                        1.7183e-01,  1.3664e-01,  1.0556e-01, -2.5938e-01, -4.7178e-01,\n",
       "                        1.0753e-01, -5.9325e-02,  8.1659e-02, -4.7025e-01, -3.0158e-01,\n",
       "                        9.0084e-02, -2.9371e-01,  1.2534e-01, -7.3437e-02],\n",
       "                      [ 1.7043e-01, -2.2858e-01,  2.2364e-01, -1.2044e-01,  1.2139e-01,\n",
       "                        2.6634e-01,  2.0567e-02,  2.4458e-01, -1.4599e-02, -9.8029e-02,\n",
       "                       -1.8855e-02, -1.3646e-01, -9.0938e-02,  9.8856e-02, -1.5418e-01,\n",
       "                       -1.9070e-01, -3.1562e-01, -3.4809e-01,  1.8990e-01,  9.3880e-02,\n",
       "                        1.3063e-01, -3.2487e-01,  2.7304e-01,  7.8812e-02,  6.6670e-02,\n",
       "                       -5.8816e-01, -2.6050e-01,  3.0604e-02, -1.3634e-01, -4.8759e-01,\n",
       "                        3.3871e-01,  6.3958e-02, -9.0212e-02, -1.6877e-01, -6.2195e-01,\n",
       "                        9.1800e-02, -2.3271e-01, -3.8747e-01, -2.3554e-01,  3.1872e-02,\n",
       "                       -3.0646e-01,  6.4693e-02, -1.5902e-01, -4.9676e-01, -6.5192e-02,\n",
       "                       -4.2105e-01,  9.0993e-02, -2.8216e-01,  1.3646e-01,  1.3484e-01,\n",
       "                        2.0392e-02, -4.1247e-01,  6.0584e-02,  2.2758e-01, -2.6699e-01,\n",
       "                       -1.7785e-02,  6.4244e-02,  2.2964e-01, -3.8282e-01,  1.9504e-01,\n",
       "                       -1.2258e-01, -2.0568e-01,  1.7873e-01, -4.6031e-01],\n",
       "                      [ 1.8248e-01,  1.3204e-01, -1.6812e-01, -1.4156e-01, -5.0565e-01,\n",
       "                        1.2647e-01, -7.7925e-02, -3.2983e-01, -2.5474e-02, -3.1254e-01,\n",
       "                        1.4087e-01, -3.7149e-01,  1.3611e-01,  1.1890e-01,  1.8867e-01,\n",
       "                       -3.1481e-01,  3.3202e-02, -1.8307e-01,  1.3917e-01,  7.2872e-02,\n",
       "                       -3.9775e-01,  1.2888e-01, -7.5907e-02,  1.1253e-01,  8.1190e-02,\n",
       "                        4.4436e-02,  1.0719e-01, -3.5079e-02, -2.2311e-02, -7.3285e-01,\n",
       "                        1.6710e-01,  1.3365e-01, -3.4700e-01, -8.8300e-02, -4.1651e-03,\n",
       "                       -2.4025e-01, -3.3635e-01, -2.8356e-01, -1.0482e-01, -5.4966e-02,\n",
       "                        1.5513e-01,  1.3180e-01,  2.9441e-02, -5.5343e-01,  1.5906e-02,\n",
       "                       -4.1687e-02, -3.9279e-01,  1.0007e-01, -4.2968e-01,  1.2827e-01,\n",
       "                       -2.7589e-02, -3.3361e-01,  1.2917e-01, -1.2082e-01, -1.3020e-01,\n",
       "                       -8.9284e-02, -1.8052e-01,  9.9360e-02,  1.1525e-01, -1.8389e-01,\n",
       "                       -2.9916e-01,  1.0015e-01,  1.4090e-01,  6.4636e-02],\n",
       "                      [ 1.4965e-01,  1.0777e-01, -2.6628e-01,  1.2265e-01,  1.0408e-01,\n",
       "                       -3.8759e-02,  2.0614e-03,  3.6489e-02,  1.3322e-01, -3.2212e-01,\n",
       "                       -3.1148e-01, -2.8436e-01, -2.6542e-01,  1.7458e-02,  2.1535e-03,\n",
       "                        1.5086e-01, -3.8608e-02, -2.8393e-01,  1.0891e-01, -2.7636e-01,\n",
       "                       -1.9795e-01, -2.1457e-01, -2.7139e-01, -1.5057e-01, -3.9641e-01,\n",
       "                        2.2199e-01,  9.7087e-02, -1.8891e-01, -2.5381e-01, -9.0326e-02,\n",
       "                       -5.6200e-03,  1.5607e-01,  1.2139e-01,  1.8890e-01, -5.2862e-01,\n",
       "                       -5.8748e-01, -2.5965e-03, -2.7512e-01,  1.3694e-01, -2.5274e-01,\n",
       "                        1.0976e-01,  1.2043e-01,  9.1839e-02, -2.5784e-02, -2.5848e-01,\n",
       "                        1.6971e-01,  1.8335e-01,  7.2012e-02, -4.3224e-01, -4.6962e-02,\n",
       "                       -4.6951e-01, -7.1202e-01, -4.2221e-01, -3.9669e-01,  1.0846e-01,\n",
       "                        1.2235e-01,  1.1169e-01,  3.8682e-02,  8.8559e-02,  1.3952e-01,\n",
       "                        9.1232e-02,  7.6118e-02,  1.4353e-01, -5.7812e-01],\n",
       "                      [-1.0679e-01,  1.0189e-01, -3.6094e-01, -3.1157e-01, -2.3356e-01,\n",
       "                        1.1342e-01,  6.5674e-02, -4.3888e-01,  2.7359e-02, -1.5600e-02,\n",
       "                        1.4313e-01, -2.0024e-01,  6.9840e-02, -1.5586e-01,  4.1144e-02,\n",
       "                        1.1023e-01, -2.1241e-01, -2.4754e-01, -2.1880e-01,  8.9590e-02,\n",
       "                       -1.1679e-01,  1.4016e-01,  2.0706e-01,  9.3433e-02,  9.2421e-02,\n",
       "                       -1.4616e-01,  9.2450e-02, -2.0217e-01, -4.0445e-01, -4.3188e-01,\n",
       "                       -9.1554e-02, -7.2688e-03, -3.0278e-01,  1.4826e-01, -3.9860e-01,\n",
       "                        3.7749e-02, -3.4752e-01,  1.3982e-01,  1.6092e-01, -9.8369e-02,\n",
       "                       -1.9603e-02,  1.1676e-01, -3.7284e-01, -5.0694e-01, -2.1142e-01,\n",
       "                       -2.3788e-01, -2.3188e-01,  1.0529e-01, -3.9780e-01, -1.8086e-02,\n",
       "                       -2.3409e-02, -2.3331e-01,  1.3362e-01, -2.2872e-01,  1.2532e-01,\n",
       "                        1.7415e-01,  1.2482e-02,  6.0236e-02,  9.3598e-02,  1.6555e-01,\n",
       "                       -4.5067e-01,  1.1977e-01, -2.0650e-01,  5.6372e-02],\n",
       "                      [ 1.0715e-01, -4.4193e-01,  1.5123e-01,  7.1862e-02,  1.2767e-01,\n",
       "                        1.2534e-01,  1.5821e-02,  6.1516e-02, -4.7578e-01, -4.3097e-01,\n",
       "                       -4.8462e-01,  5.0458e-02, -3.6802e-01, -3.4174e-01,  3.1967e-01,\n",
       "                        1.9239e-01,  4.2691e-02, -2.2772e-01,  1.8687e-01,  1.0270e-01,\n",
       "                        1.1405e-01, -1.3467e-01,  1.7183e-01, -7.2957e-01,  1.5486e-01,\n",
       "                        1.4021e-01, -5.6514e-01, -3.1196e-01,  1.4698e-01,  1.1486e-01,\n",
       "                       -1.4433e-01, -4.5707e-01, -5.7639e-03,  1.8422e-01,  2.1109e-01,\n",
       "                        1.3917e-01, -3.7393e-01,  2.0943e-02, -1.5359e-01, -3.2723e-01,\n",
       "                        1.6066e-02, -7.3556e-01, -6.1082e-01,  1.3887e-01, -4.6025e-01,\n",
       "                        2.2089e-01,  9.3061e-02, -6.6361e-01,  1.1478e-01, -1.0936e-01,\n",
       "                       -7.2741e-03, -1.4015e-01, -3.1582e-01,  4.0815e-02, -3.8605e-01,\n",
       "                       -2.1024e-01, -3.7203e-01, -2.9885e-01, -6.3507e-02, -5.6270e-01,\n",
       "                       -3.6661e-01,  8.8078e-02, -3.7458e-02,  3.9176e-01],\n",
       "                      [ 1.0864e-02,  1.1006e-01, -5.0976e-01, -5.2376e-02, -3.5700e-01,\n",
       "                       -2.2217e-01,  9.5064e-02,  3.7902e-02, -2.2047e-01, -1.5258e-01,\n",
       "                        1.1295e-01,  7.0523e-02, -1.1827e-01,  1.5127e-01, -1.2612e-01,\n",
       "                       -2.8114e-01,  1.3877e-01,  1.7768e-01,  2.7030e-02, -1.6566e-01,\n",
       "                       -5.5750e-03, -7.9869e-02, -7.8964e-02,  6.4849e-02,  8.3948e-02,\n",
       "                        1.3023e-01,  1.1273e-01, -3.3037e-02,  1.4346e-01, -7.7180e-02,\n",
       "                       -1.1871e-01,  1.7195e-01,  8.3282e-02, -1.0384e-01, -4.0816e-01,\n",
       "                       -1.3372e-02,  6.7122e-02,  1.1116e-01, -1.4527e-01,  2.7073e-01,\n",
       "                       -2.1447e-01,  1.2867e-01, -9.7027e-02, -3.8900e-01, -3.3015e-03,\n",
       "                       -2.3141e-01, -3.0571e-01,  1.0781e-01, -4.9576e-01,  1.2239e-01,\n",
       "                        1.5716e-01, -4.0059e-01,  1.3389e-01,  6.1682e-02,  9.8389e-02,\n",
       "                       -1.3969e-01,  1.3531e-01, -3.4760e-01,  9.2004e-02,  1.5419e-01,\n",
       "                       -8.2707e-02, -1.5062e-01,  3.6665e-02,  4.4458e-02],\n",
       "                      [-4.3086e-01, -5.9244e-01,  1.6645e-01, -3.4438e-01,  1.3193e-01,\n",
       "                       -4.1045e-01,  5.9316e-02, -1.8964e-01,  1.0568e-01, -5.0245e-01,\n",
       "                        8.3883e-02, -2.9038e-01, -1.7513e-01, -3.8646e-01, -4.4573e-01,\n",
       "                        1.6980e-01,  1.3116e-01,  1.1423e-01, -3.5290e-01, -4.8577e-01,\n",
       "                        1.1213e-01, -3.0630e-01, -4.2114e-01, -4.5493e-01,  8.4886e-02,\n",
       "                        4.6348e-02,  2.0734e-02,  2.8460e-01, -2.0747e-01,  8.4431e-02,\n",
       "                       -1.4189e-01, -4.2642e-01, -6.5272e-01,  1.1880e-01,  1.4635e-02,\n",
       "                        1.4912e-01,  1.0793e-01,  1.6872e-01,  1.4213e-01,  1.7955e-01,\n",
       "                       -1.7704e-01, -5.7880e-01, -6.4210e-01,  1.2680e-01, -7.3068e-01,\n",
       "                       -2.0755e-01,  6.7154e-02, -5.1463e-01,  1.2244e-01, -9.7478e-03,\n",
       "                       -7.6919e-02,  1.2644e-01,  7.2314e-02,  8.1178e-02, -6.4382e-01,\n",
       "                       -4.1248e-01, -3.7771e-01,  8.8486e-02, -5.4728e-01, -1.2269e-01,\n",
       "                        1.0763e-01,  1.8649e-01, -2.1353e-01, -4.0811e-01],\n",
       "                      [ 1.9731e-02, -4.8771e-02,  1.0062e-01,  7.8065e-02, -2.0309e-01,\n",
       "                        1.3355e-01,  8.2156e-02,  1.1729e-01, -6.5864e-02,  8.8532e-02,\n",
       "                       -1.4933e-01,  9.3976e-02, -1.1987e-01,  5.7306e-02, -1.3916e-01,\n",
       "                       -4.7943e-01,  1.5329e-01,  1.5093e-01, -1.5240e-02, -2.3993e-01,\n",
       "                       -1.0001e-01,  1.2208e-01,  1.3644e-01,  8.7871e-02, -3.2546e-01,\n",
       "                       -9.7852e-02,  1.1612e-01, -2.7667e-01, -1.8572e-01,  3.9481e-04,\n",
       "                        7.7289e-02, -2.6275e-01,  1.1027e-01,  9.2928e-02, -3.4103e-01,\n",
       "                       -2.3071e-02,  9.2597e-02,  1.2284e-01,  8.4061e-02, -3.2668e-01,\n",
       "                       -2.0927e-01, -4.3026e-02,  1.2034e-01, -4.2334e-01, -9.9636e-02,\n",
       "                       -4.3717e-01, -2.2284e-01,  8.8990e-02, -1.4000e-01, -7.1430e-02,\n",
       "                        1.6022e-01, -7.3603e-01,  7.4183e-02,  7.9638e-02,  1.0405e-01,\n",
       "                        2.9362e-02,  1.3463e-01, -1.5562e-01, -2.3691e-01,  1.6599e-01,\n",
       "                        6.3621e-03,  9.1662e-02, -2.1814e-01, -2.2601e-01],\n",
       "                      [ 2.3955e-02,  7.6980e-02, -1.1713e-01,  1.3510e-01, -2.6915e-01,\n",
       "                       -1.0685e-01,  6.3434e-03, -3.0794e-01,  1.8226e-01,  4.6234e-01,\n",
       "                        1.5482e-01, -3.9862e-01,  2.1711e-01,  9.6078e-02,  2.4117e-01,\n",
       "                       -1.7128e-01,  1.5330e-01,  7.1501e-03, -2.2622e-01,  2.0856e-01,\n",
       "                       -2.1147e-01, -1.5318e-02, -2.1158e-01, -2.6944e-02, -5.7199e-01,\n",
       "                       -2.7896e-01,  1.1852e-02,  4.2053e-01, -4.3299e-02,  6.7171e-02,\n",
       "                       -2.6012e-01, -2.5534e-01,  1.5593e-01, -1.0873e-01,  1.3409e-01,\n",
       "                       -2.0639e-01, -1.8945e-01, -1.2859e-01, -4.1243e-01, -1.9306e-01,\n",
       "                        1.2251e-01, -2.2584e-01,  1.1624e-01,  6.0486e-02,  4.6322e-01,\n",
       "                        9.4690e-02,  1.8395e-01, -3.4563e-01, -2.4884e-01,  1.0721e-01,\n",
       "                       -2.3740e-01, -7.6911e-01, -1.7788e-01, -3.7689e-01, -2.5031e-01,\n",
       "                        1.3060e-01, -2.7728e-01, -1.2326e-01,  2.0747e-02, -3.4217e-01,\n",
       "                        1.7470e-01,  1.0682e-01, -7.0421e-02, -8.5645e-01]], device='cuda:0')),\n",
       "             ('fc.3.block.linear.bias',\n",
       "              tensor([-0.4057,  0.0087, -0.0796,  0.2655,  0.1429, -0.0047,  0.1030,  0.1544,\n",
       "                      -0.0449, -0.2340], device='cuda:0'))])"
      ]
     },
     "execution_count": 16,
     "metadata": {},
     "output_type": "execute_result"
    }
   ],
   "source": [
    "model.state_dict()"
   ]
  },
  {
   "cell_type": "markdown",
   "id": "8aa6ccf5",
   "metadata": {},
   "source": [
    "# Predict"
   ]
  },
  {
   "cell_type": "code",
   "execution_count": 20,
   "id": "5444f6db",
   "metadata": {},
   "outputs": [],
   "source": [
    "feature, target = next(iter(testloader))\n",
    "feature, target = feature.to(device), target.to(device)"
   ]
  },
  {
   "cell_type": "code",
   "execution_count": 27,
   "id": "7b4d6412",
   "metadata": {},
   "outputs": [
    {
     "data": {
      "text/plain": [
       "['Dress',\n",
       " 'Shirt',\n",
       " 'Coat',\n",
       " 'Trouser',\n",
       " 'Sandal',\n",
       " 'T-shirt or Top',\n",
       " 'Ankle boot',\n",
       " 'Coat',\n",
       " 'Dress',\n",
       " 'Trouser',\n",
       " 'Trouser',\n",
       " 'Sneaker',\n",
       " 'Trouser',\n",
       " 'Sandal',\n",
       " 'Shirt',\n",
       " 'Coat',\n",
       " 'Dress',\n",
       " 'Sneaker',\n",
       " 'T-shirt or Top',\n",
       " 'Pullover',\n",
       " 'Sneaker',\n",
       " 'Sandal',\n",
       " 'Dress',\n",
       " 'Sandal',\n",
       " 'T-shirt or Top',\n",
       " 'Bag',\n",
       " 'Sneaker',\n",
       " 'Sandal',\n",
       " 'Shirt',\n",
       " 'Sandal',\n",
       " 'Ankle boot',\n",
       " 'Ankle boot',\n",
       " 'Sneaker',\n",
       " 'Sneaker',\n",
       " 'Sandal',\n",
       " 'T-shirt or Top',\n",
       " 'Sneaker',\n",
       " 'T-shirt or Top',\n",
       " 'Sandal',\n",
       " 'Dress',\n",
       " 'Shirt',\n",
       " 'Sneaker',\n",
       " 'T-shirt or Top',\n",
       " 'Sneaker',\n",
       " 'Pullover',\n",
       " 'T-shirt or Top',\n",
       " 'Sneaker',\n",
       " 'Bag',\n",
       " 'T-shirt or Top',\n",
       " 'Bag',\n",
       " 'Sneaker',\n",
       " 'Bag',\n",
       " 'Bag',\n",
       " 'Sandal',\n",
       " 'Ankle boot',\n",
       " 'T-shirt or Top',\n",
       " 'Sneaker',\n",
       " 'Coat',\n",
       " 'Bag',\n",
       " 'Sneaker',\n",
       " 'Bag',\n",
       " 'Sandal',\n",
       " 'Ankle boot',\n",
       " 'Sandal',\n",
       " 'Shirt',\n",
       " 'Sandal',\n",
       " 'T-shirt or Top',\n",
       " 'Coat',\n",
       " 'Sandal',\n",
       " 'Sneaker',\n",
       " 'Sandal',\n",
       " 'Coat',\n",
       " 'Sandal',\n",
       " 'Coat',\n",
       " 'Sneaker',\n",
       " 'Coat',\n",
       " 'Ankle boot',\n",
       " 'Pullover',\n",
       " 'Dress',\n",
       " 'Coat',\n",
       " 'T-shirt or Top',\n",
       " 'Trouser',\n",
       " 'T-shirt or Top',\n",
       " 'Coat',\n",
       " 'Coat',\n",
       " 'Sneaker',\n",
       " 'Coat',\n",
       " 'Coat',\n",
       " 'T-shirt or Top',\n",
       " 'Dress',\n",
       " 'Sandal',\n",
       " 'Trouser',\n",
       " 'Sandal',\n",
       " 'Sandal',\n",
       " 'Coat',\n",
       " 'Bag',\n",
       " 'Dress',\n",
       " 'Sneaker',\n",
       " 'Dress',\n",
       " 'Ankle boot',\n",
       " 'Shirt',\n",
       " 'Pullover',\n",
       " 'Bag',\n",
       " 'Sandal',\n",
       " 'Bag',\n",
       " 'Shirt',\n",
       " 'Bag',\n",
       " 'Bag',\n",
       " 'Pullover',\n",
       " 'Shirt',\n",
       " 'Dress',\n",
       " 'Ankle boot',\n",
       " 'Coat',\n",
       " 'Bag',\n",
       " 'Trouser',\n",
       " 'Dress',\n",
       " 'Trouser',\n",
       " 'Shirt',\n",
       " 'Dress',\n",
       " 'Sneaker',\n",
       " 'Ankle boot',\n",
       " 'Sandal',\n",
       " 'Coat',\n",
       " 'T-shirt or Top',\n",
       " 'Shirt',\n",
       " 'Coat',\n",
       " 'Coat',\n",
       " 'Pullover']"
      ]
     },
     "execution_count": 27,
     "metadata": {},
     "output_type": "execute_result"
    }
   ],
   "source": [
    "with torch.no_grad():\n",
    "    model.eval()\n",
    "    output = model(feature)\n",
    "    preds = output.argmax(1)\n",
    "[label2cat[pred]for pred in preds]"
   ]
  },
  {
   "cell_type": "markdown",
   "id": "9c7b60e3",
   "metadata": {},
   "source": [
    "# Visualisasi"
   ]
  },
  {
   "cell_type": "code",
   "execution_count": 23,
   "id": "c6db0748",
   "metadata": {},
   "outputs": [],
   "source": [
    "import matplotlib.pyplot as plt"
   ]
  },
  {
   "cell_type": "code",
   "execution_count": 29,
   "id": "1373a26d",
   "metadata": {},
   "outputs": [
    {
     "data": {
      "image/png": "[encoded data removed]",
      "text/plain": [
       "<Figure size 2400x2400 with 36 Axes>"
      ]
     },
     "metadata": {},
     "output_type": "display_data"
    }
   ],
   "source": [
    "fig, axes = plt.subplots(6, 6, figsize=(24,24))\n",
    "for img, label, pred, ax in zip(feature, target, preds, axes.flatten()):\n",
    "    ax.imshow(img.view(28,28).cpu(), cmap='gray')\n",
    "    font = {\"color\": 'r'} if label != pred else {\"color\": 'g'}\n",
    "    label, pred = label2cat[label.item()], label2cat[pred.item()]\n",
    "    ax.set_title(f\"label: {label} | pred: {pred} \", fontdict=font);\n",
    "    ax.axis('off');"
   ]
  },
  {
   "cell_type": "code",
   "execution_count": 14,
   "id": "a0cb201f",
   "metadata": {},
   "outputs": [
    {
     "name": "stderr",
     "output_type": "stream",
     "text": [
      "C:\\Users\\ASUS\\AppData\\Local\\Temp\\ipykernel_20488\\3065139538.py:8: TqdmDeprecationWarning: Please use `tqdm.notebook.trange` instead of `tqdm.tnrange`\n",
      "  for i in tnrange(10, desc=\"1st loop\"):\n"
     ]
    },
    {
     "data": {
      "application/vnd.jupyter.widget-view+json": {
       "model_id": "7bdf4c93264749e3842fd2e688f4d9ee",
       "version_major": 2,
       "version_minor": 0
      },
      "text/plain": [
       "1st loop:   0%|          | 0/10 [00:00<?, ?it/s]"
      ]
     },
     "metadata": {},
     "output_type": "display_data"
    },
    {
     "name": "stderr",
     "output_type": "stream",
     "text": [
      "\n",
      "2nd lood:   0%|                                                                                | 0/100 [00:00<?, ?it/s]\u001b[A\n",
      "2nd lood: 100%|█████████████████████████████████████████████████████████████████████| 100/100 [00:00<00:00, 524.61it/s]\u001b[A\n",
      "\n",
      "2nd lood:   0%|                                                                                | 0/100 [00:00<?, ?it/s]\u001b[A\n",
      "2nd lood: 100%|█████████████████████████████████████████████████████████████████████| 100/100 [00:00<00:00, 531.28it/s]\u001b[A\n",
      "\n",
      "2nd lood:   0%|                                                                                | 0/100 [00:00<?, ?it/s]\u001b[A\n",
      "2nd lood: 100%|█████████████████████████████████████████████████████████████████████| 100/100 [00:00<00:00, 532.99it/s]\u001b[A\n",
      "\n",
      "2nd lood:   0%|                                                                                | 0/100 [00:00<?, ?it/s]\u001b[A\n",
      "2nd lood: 100%|█████████████████████████████████████████████████████████████████████| 100/100 [00:00<00:00, 526.50it/s]\u001b[A\n",
      "\n",
      "2nd lood:   0%|                                                                                | 0/100 [00:00<?, ?it/s]\u001b[A\n",
      "2nd lood: 100%|█████████████████████████████████████████████████████████████████████| 100/100 [00:00<00:00, 523.82it/s]\u001b[A\n",
      "\n",
      "2nd lood:   0%|                                                                                | 0/100 [00:00<?, ?it/s]\u001b[A\n",
      "2nd lood: 100%|█████████████████████████████████████████████████████████████████████| 100/100 [00:00<00:00, 523.85it/s]\u001b[A\n",
      "\n",
      "2nd lood:   0%|                                                                                | 0/100 [00:00<?, ?it/s]\u001b[A\n",
      "2nd lood: 100%|█████████████████████████████████████████████████████████████████████| 100/100 [00:00<00:00, 540.10it/s]\u001b[A\n",
      "\n",
      "2nd lood:   0%|                                                                                | 0/100 [00:00<?, ?it/s]\u001b[A\n",
      "2nd lood: 100%|█████████████████████████████████████████████████████████████████████| 100/100 [00:00<00:00, 541.20it/s]\u001b[A\n",
      "\n",
      "2nd lood:   0%|                                                                                | 0/100 [00:00<?, ?it/s]\u001b[A\n",
      "2nd lood: 100%|█████████████████████████████████████████████████████████████████████| 100/100 [00:00<00:00, 521.23it/s]\u001b[A\n",
      "\n",
      "2nd lood:   0%|                                                                                | 0/100 [00:00<?, ?it/s]\u001b[A\n",
      "2nd lood: 100%|█████████████████████████████████████████████████████████████████████| 100/100 [00:00<00:00, 518.19it/s]\u001b[A\n"
     ]
    }
   ],
   "source": [
    "from tqdm import tnrange, tqdm\n",
    "from time import sleep\n",
    "\n",
    "# example_iter = [1,2,3,4,5]\n",
    "# for rec in tqdm_notebook(example_iter):\n",
    "#     print(rec)\n",
    "\n",
    "for i in tnrange(10, desc=\"1st loop\"):\n",
    "    for j in tqdm(range(100), desc='2nd lood'):\n",
    "        sleep(0.001)"
   ]
  },
  {
   "cell_type": "code",
   "execution_count": 18,
   "id": "8e0112a3",
   "metadata": {},
   "outputs": [
    {
     "name": "stderr",
     "output_type": "stream",
     "text": [
      "100%|████████████████████████████████████████████████████████████████████████████████| 100/100 [01:40<00:00,  1.00s/it]\n"
     ]
    }
   ],
   "source": [
    "from tqdm import trange, tqdm\n",
    "\n",
    "for i in tqdm(range(100)):\n",
    "    sleep(1)"
   ]
  },
  {
   "cell_type": "code",
   "execution_count": 7,
   "id": "57428fe0",
   "metadata": {},
   "outputs": [
    {
     "data": {
      "application/vnd.jupyter.widget-view+json": {
       "model_id": "d93898bf40094362a086f1701851df5f",
       "version_major": 2,
       "version_minor": 0
      },
      "text/plain": [
       "Output()"
      ]
     },
     "metadata": {},
     "output_type": "display_data"
    },
    {
     "data": {
      "text/html": [
       "<pre style=\"white-space:pre;overflow-x:auto;line-height:normal;font-family:Menlo,'DejaVu Sans Mono',consolas,'Courier New',monospace\"></pre>\n"
      ],
      "text/plain": []
     },
     "metadata": {},
     "output_type": "display_data"
    },
    {
     "data": {
      "text/html": [
       "<pre style=\"white-space:pre;overflow-x:auto;line-height:normal;font-family:Menlo,'DejaVu Sans Mono',consolas,'Courier New',monospace\">\n",
       "</pre>\n"
      ],
      "text/plain": [
       "\n"
      ]
     },
     "metadata": {},
     "output_type": "display_data"
    }
   ],
   "source": [
    "\n",
    "from rich.progress import track\n",
    "from time import sleep\n",
    " \n",
    "for step in track(range(15), total=10):\n",
    "    sleep(1)"
   ]
  },
  {
   "cell_type": "code",
   "execution_count": 10,
   "id": "3e3f9ce4",
   "metadata": {},
   "outputs": [
    {
     "data": {
      "application/vnd.jupyter.widget-view+json": {
       "model_id": "7c7b68370267416886052f684f3a8cdd",
       "version_major": 2,
       "version_minor": 0
      },
      "text/plain": [
       "Output()"
      ]
     },
     "metadata": {},
     "output_type": "display_data"
    },
    {
     "data": {
      "text/html": [
       "<pre style=\"white-space:pre;overflow-x:auto;line-height:normal;font-family:Menlo,'DejaVu Sans Mono',consolas,'Courier New',monospace\"></pre>\n"
      ],
      "text/plain": []
     },
     "metadata": {},
     "output_type": "display_data"
    },
    {
     "data": {
      "text/html": [
       "<pre style=\"white-space:pre;overflow-x:auto;line-height:normal;font-family:Menlo,'DejaVu Sans Mono',consolas,'Courier New',monospace\">\n",
       "</pre>\n"
      ],
      "text/plain": [
       "\n"
      ]
     },
     "metadata": {},
     "output_type": "display_data"
    }
   ],
   "source": [
    "from rich.progress import track\n",
    "from time import sleep\n",
    "\n",
    "for step in track(range(15), description=\"Processing...\"):\n",
    "    sleep(1)"
   ]
  },
  {
   "cell_type": "code",
   "execution_count": 11,
   "id": "92fafa88",
   "metadata": {},
   "outputs": [
    {
     "name": "stderr",
     "output_type": "stream",
     "text": [
      "Processing...: 100%|█████████████████████████████████████████████████████████████████████████████ | Step: 15/15 | 00:00\n"
     ]
    }
   ],
   "source": [
    "from tqdm import tqdm\n",
    "from time import sleep\n",
    "\n",
    "# Custom bar format\n",
    "bar_format = \"{l_bar}{bar} | Step: {n_fmt}/{total_fmt} | {remaining}\"\n",
    "\n",
    "for step in tqdm(range(15), desc=\"Processing...\", bar_format=bar_format):\n",
    "    sleep(1)"
   ]
  },
  {
   "cell_type": "code",
   "execution_count": null,
   "id": "181379f7",
   "metadata": {},
   "outputs": [],
   "source": []
  }
 ],
 "metadata": {
  "kernelspec": {
   "display_name": "Python [conda env:jcop_cuda]",
   "language": "python",
   "name": "conda-env-jcop_cuda-py"
  },
  "language_info": {
   "codemirror_mode": {
    "name": "ipython",
    "version": 3
   },
   "file_extension": ".py",
   "mimetype": "text/x-python",
   "name": "python",
   "nbconvert_exporter": "python",
   "pygments_lexer": "ipython3",
   "version": "3.11.9"
  },
  "varInspector": {
   "cols": {
    "lenName": 16,
    "lenType": 16,
    "lenVar": 40
   },
   "kernels_config": {
    "python": {
     "delete_cmd_postfix": "",
     "delete_cmd_prefix": "del ",
     "library": "var_list.py",
     "varRefreshCmd": "print(var_dic_list())"
    },
    "r": {
     "delete_cmd_postfix": ") ",
     "delete_cmd_prefix": "rm(",
     "library": "var_list.r",
     "varRefreshCmd": "cat(var_dic_list()) "
    }
   },
   "types_to_exclude": [
    "module",
    "function",
    "builtin_function_or_method",
    "instance",
    "_Feature"
   ],
   "window_display": false
  }
 },
 "nbformat": 4,
 "nbformat_minor": 5
}
