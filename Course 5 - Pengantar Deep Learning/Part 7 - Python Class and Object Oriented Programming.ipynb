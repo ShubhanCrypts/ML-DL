{
 "cells": [
  {
   "cell_type": "code",
   "execution_count": 27,
   "id": "e706f6e9",
   "metadata": {},
   "outputs": [],
   "source": [
    "class Manusia:\n",
    "    def __init__(self, warna_rambut=\"hitam\", tinggi=140, berat=60):\n",
    "        self.warna_rambut = warna_rambut\n",
    "        self.tinggi = tinggi\n",
    "        self.berat = berat\n",
    "        \n",
    "    def cat_rambutnya(self, warna):\n",
    "        self.warna_rambut = warna\n",
    "        print(f\"rambutnya jadi warna {warna}\")\n",
    "        \n",
    "    def BMI(self):\n",
    "        return self.berat / self.tinggi ** 2"
   ]
  },
  {
   "cell_type": "code",
   "execution_count": 29,
   "id": "7cef1523",
   "metadata": {},
   "outputs": [],
   "source": [
    "wira = Manusia(warna_rambut=\"hitam\", tinggi=165, berat=65)"
   ]
  },
  {
   "cell_type": "code",
   "execution_count": 31,
   "id": "ab921176",
   "metadata": {},
   "outputs": [],
   "source": [
    "hasan = Manusia(warna_rambut=\"putih\", tinggi=175, berat=70)"
   ]
  },
  {
   "cell_type": "code",
   "execution_count": null,
   "id": "02b65dc1",
   "metadata": {},
   "outputs": [],
   "source": []
  },
  {
   "cell_type": "code",
   "execution_count": 34,
   "id": "8d038827",
   "metadata": {},
   "outputs": [
    {
     "data": {
      "text/plain": [
       "0.0023875114784205694"
      ]
     },
     "execution_count": 34,
     "metadata": {},
     "output_type": "execute_result"
    }
   ],
   "source": [
    "wira.BMI()"
   ]
  },
  {
   "cell_type": "code",
   "execution_count": 33,
   "id": "93b2f77c",
   "metadata": {},
   "outputs": [
    {
     "data": {
      "text/plain": [
       "0.002285714285714286"
      ]
     },
     "execution_count": 33,
     "metadata": {},
     "output_type": "execute_result"
    }
   ],
   "source": [
    "hasan.BMI()"
   ]
  },
  {
   "cell_type": "code",
   "execution_count": 21,
   "id": "08a574a5",
   "metadata": {},
   "outputs": [
    {
     "data": {
      "text/plain": [
       "65"
      ]
     },
     "execution_count": 21,
     "metadata": {},
     "output_type": "execute_result"
    }
   ],
   "source": [
    "wira.berat"
   ]
  },
  {
   "cell_type": "code",
   "execution_count": 22,
   "id": "15a0deba",
   "metadata": {},
   "outputs": [
    {
     "data": {
      "text/plain": [
       "165"
      ]
     },
     "execution_count": 22,
     "metadata": {},
     "output_type": "execute_result"
    }
   ],
   "source": [
    "wira.tinggi"
   ]
  },
  {
   "cell_type": "code",
   "execution_count": 23,
   "id": "cc5b503b",
   "metadata": {},
   "outputs": [
    {
     "data": {
      "text/plain": [
       "'hitam'"
      ]
     },
     "execution_count": 23,
     "metadata": {},
     "output_type": "execute_result"
    }
   ],
   "source": [
    "wira.warna_rambut"
   ]
  },
  {
   "cell_type": "code",
   "execution_count": 24,
   "id": "1b222d6c",
   "metadata": {},
   "outputs": [
    {
     "name": "stdout",
     "output_type": "stream",
     "text": [
      "rambutnya jadi warna pink\n"
     ]
    }
   ],
   "source": [
    "wira.cat_rambutnya(\"pink\")"
   ]
  },
  {
   "cell_type": "code",
   "execution_count": 25,
   "id": "86b94674",
   "metadata": {},
   "outputs": [
    {
     "data": {
      "text/plain": [
       "'pink'"
      ]
     },
     "execution_count": 25,
     "metadata": {},
     "output_type": "execute_result"
    }
   ],
   "source": [
    "wira.warna_rambut"
   ]
  },
  {
   "cell_type": "markdown",
   "id": "cff4687f",
   "metadata": {},
   "source": [
    "# Inheritance"
   ]
  },
  {
   "cell_type": "code",
   "execution_count": 44,
   "id": "e3f6eda5",
   "metadata": {},
   "outputs": [],
   "source": [
    "class Mahasiswa(Manusia):\n",
    "    def __init__(self, warna_rambut, tinggi, berat, univ):\n",
    "        super().__init__(warna_rambut, tinggi, berat)\n",
    "        self.universitas = univ\n",
    "        \n",
    "    def pindah_univ(self, univ_baru):\n",
    "        self.universitas = univ_baru"
   ]
  },
  {
   "cell_type": "code",
   "execution_count": 45,
   "id": "261b043c",
   "metadata": {},
   "outputs": [],
   "source": [
    "dyana = Mahasiswa(\"hitam\",150, 50, \"ugm\")"
   ]
  },
  {
   "cell_type": "code",
   "execution_count": 52,
   "id": "99c733a4",
   "metadata": {},
   "outputs": [
    {
     "data": {
      "text/plain": [
       "(50, 150, 0.0022222222222222222, 'ITB')"
      ]
     },
     "execution_count": 52,
     "metadata": {},
     "output_type": "execute_result"
    }
   ],
   "source": [
    "dyana.berat, dyana.tinggi, dyana.BMI(), dyana.universitas"
   ]
  },
  {
   "cell_type": "code",
   "execution_count": 47,
   "id": "2dca4abd",
   "metadata": {},
   "outputs": [
    {
     "data": {
      "text/plain": [
       "0.0022222222222222222"
      ]
     },
     "execution_count": 47,
     "metadata": {},
     "output_type": "execute_result"
    }
   ],
   "source": [
    "dyana.BMI()"
   ]
  },
  {
   "cell_type": "code",
   "execution_count": 48,
   "id": "b770ee6d",
   "metadata": {},
   "outputs": [
    {
     "data": {
      "text/plain": [
       "'ugm'"
      ]
     },
     "execution_count": 48,
     "metadata": {},
     "output_type": "execute_result"
    }
   ],
   "source": [
    "dyana.universitas"
   ]
  },
  {
   "cell_type": "code",
   "execution_count": 49,
   "id": "1256e751",
   "metadata": {},
   "outputs": [],
   "source": [
    "dyana.pindah_univ(\"ITB\")"
   ]
  },
  {
   "cell_type": "code",
   "execution_count": 50,
   "id": "dbfe0aa3",
   "metadata": {},
   "outputs": [
    {
     "data": {
      "text/plain": [
       "'ITB'"
      ]
     },
     "execution_count": 50,
     "metadata": {},
     "output_type": "execute_result"
    }
   ],
   "source": [
    "dyana.universitas"
   ]
  },
  {
   "cell_type": "markdown",
   "id": "401e08f1",
   "metadata": {},
   "source": [
    "# Pytorch NN Module"
   ]
  },
  {
   "cell_type": "code",
   "execution_count": 51,
   "id": "d3a5de54",
   "metadata": {},
   "outputs": [],
   "source": [
    "import torch\n",
    "from torch import nn"
   ]
  },
  {
   "cell_type": "code",
   "execution_count": 55,
   "id": "746965c8",
   "metadata": {},
   "outputs": [],
   "source": [
    "??nn.Module"
   ]
  },
  {
   "cell_type": "code",
   "execution_count": 56,
   "id": "3463a5e5",
   "metadata": {},
   "outputs": [],
   "source": [
    "class CustomNN(nn.Module):\n",
    "    def __init__(self, input_size, output_size):\n",
    "        super().__init__()\n",
    "        self.fc = nn.Sequential(\n",
    "            nn.Linear(input_size, 16),\n",
    "            nn.ReLU(),\n",
    "            nn.Linear(16, 8),\n",
    "            nn.ReLU(),\n",
    "            nn.Linear(8, output_size),\n",
    "            nn.Sigmoid()\n",
    "        )\n",
    "        \n",
    "    def forward(self, x):\n",
    "        return self.fc(x)"
   ]
  },
  {
   "cell_type": "code",
   "execution_count": 57,
   "id": "c4dd5374",
   "metadata": {},
   "outputs": [],
   "source": [
    "class FaceBiometric(nn.Module):\n",
    "    def __init__(self, input_size, output_size):\n",
    "        super().__init__()\n",
    "        self.fc = nn.Sequential(\n",
    "            nn.Linear(input_size, 16),\n",
    "            nn.ReLU()\n",
    "        )\n",
    "        \n",
    "        self.reg = nn.Linear(16, 4)\n",
    "        self.clf = nn.Sequential(\n",
    "            nn.Linear(16, 4),\n",
    "            nn.Sigmoid()\n",
    "        )\n",
    "        \n",
    "    def forward(self, x):\n",
    "        x = self.fc(x)\n",
    "        pred_reg = self.reg(x)\n",
    "        pred_clf = self.clf(x)\n",
    "        return pred_reg, pred_clf"
   ]
  },
  {
   "cell_type": "code",
   "execution_count": 59,
   "id": "daca8e48",
   "metadata": {},
   "outputs": [],
   "source": [
    "model = CustomNN(7, 1)"
   ]
  },
  {
   "cell_type": "code",
   "execution_count": 58,
   "id": "68e11e8d",
   "metadata": {},
   "outputs": [],
   "source": [
    "contoh_data = torch.rand(100, 7)"
   ]
  },
  {
   "cell_type": "code",
   "execution_count": 63,
   "id": "a6cf8849",
   "metadata": {},
   "outputs": [
    {
     "data": {
      "text/plain": [
       "tensor([[0.5565],\n",
       "        [0.5546],\n",
       "        [0.5508],\n",
       "        [0.5545],\n",
       "        [0.5504],\n",
       "        [0.5532],\n",
       "        [0.5541],\n",
       "        [0.5526],\n",
       "        [0.5533],\n",
       "        [0.5543],\n",
       "        [0.5583],\n",
       "        [0.5539],\n",
       "        [0.5510],\n",
       "        [0.5534],\n",
       "        [0.5507],\n",
       "        [0.5527],\n",
       "        [0.5542],\n",
       "        [0.5502],\n",
       "        [0.5493],\n",
       "        [0.5535],\n",
       "        [0.5530],\n",
       "        [0.5489],\n",
       "        [0.5507],\n",
       "        [0.5532],\n",
       "        [0.5515],\n",
       "        [0.5482],\n",
       "        [0.5536],\n",
       "        [0.5500],\n",
       "        [0.5530],\n",
       "        [0.5543],\n",
       "        [0.5513],\n",
       "        [0.5548],\n",
       "        [0.5534],\n",
       "        [0.5508],\n",
       "        [0.5524],\n",
       "        [0.5563],\n",
       "        [0.5524],\n",
       "        [0.5516],\n",
       "        [0.5533],\n",
       "        [0.5520],\n",
       "        [0.5524],\n",
       "        [0.5522],\n",
       "        [0.5531],\n",
       "        [0.5543],\n",
       "        [0.5568],\n",
       "        [0.5552],\n",
       "        [0.5513],\n",
       "        [0.5546],\n",
       "        [0.5527],\n",
       "        [0.5530],\n",
       "        [0.5531],\n",
       "        [0.5517],\n",
       "        [0.5538],\n",
       "        [0.5509],\n",
       "        [0.5549],\n",
       "        [0.5518],\n",
       "        [0.5504],\n",
       "        [0.5546],\n",
       "        [0.5529],\n",
       "        [0.5503],\n",
       "        [0.5498],\n",
       "        [0.5519],\n",
       "        [0.5523],\n",
       "        [0.5535],\n",
       "        [0.5522],\n",
       "        [0.5519],\n",
       "        [0.5557],\n",
       "        [0.5511],\n",
       "        [0.5540],\n",
       "        [0.5557],\n",
       "        [0.5512],\n",
       "        [0.5531],\n",
       "        [0.5520],\n",
       "        [0.5516],\n",
       "        [0.5548],\n",
       "        [0.5528],\n",
       "        [0.5510],\n",
       "        [0.5526],\n",
       "        [0.5522],\n",
       "        [0.5511],\n",
       "        [0.5530],\n",
       "        [0.5516],\n",
       "        [0.5552],\n",
       "        [0.5578],\n",
       "        [0.5484],\n",
       "        [0.5470],\n",
       "        [0.5540],\n",
       "        [0.5538],\n",
       "        [0.5520],\n",
       "        [0.5505],\n",
       "        [0.5546],\n",
       "        [0.5511],\n",
       "        [0.5498],\n",
       "        [0.5505],\n",
       "        [0.5535],\n",
       "        [0.5557],\n",
       "        [0.5542],\n",
       "        [0.5565],\n",
       "        [0.5529],\n",
       "        [0.5544]], grad_fn=<SigmoidBackward0>)"
      ]
     },
     "execution_count": 63,
     "metadata": {},
     "output_type": "execute_result"
    }
   ],
   "source": [
    "output = model(contoh_data)\n",
    "output"
   ]
  },
  {
   "cell_type": "code",
   "execution_count": null,
   "id": "85c675d9",
   "metadata": {},
   "outputs": [],
   "source": []
  },
  {
   "cell_type": "code",
   "execution_count": null,
   "id": "e1eabc66",
   "metadata": {},
   "outputs": [],
   "source": []
  }
 ],
 "metadata": {
  "kernelspec": {
   "display_name": "Python [conda env:jcop_cuda]",
   "language": "python",
   "name": "conda-env-jcop_cuda-py"
  },
  "language_info": {
   "codemirror_mode": {
    "name": "ipython",
    "version": 3
   },
   "file_extension": ".py",
   "mimetype": "text/x-python",
   "name": "python",
   "nbconvert_exporter": "python",
   "pygments_lexer": "ipython3",
   "version": "3.11.0"
  },
  "varInspector": {
   "cols": {
    "lenName": 16,
    "lenType": 16,
    "lenVar": 40
   },
   "kernels_config": {
    "python": {
     "delete_cmd_postfix": "",
     "delete_cmd_prefix": "del ",
     "library": "var_list.py",
     "varRefreshCmd": "print(var_dic_list())"
    },
    "r": {
     "delete_cmd_postfix": ") ",
     "delete_cmd_prefix": "rm(",
     "library": "var_list.r",
     "varRefreshCmd": "cat(var_dic_list()) "
    }
   },
   "types_to_exclude": [
    "module",
    "function",
    "builtin_function_or_method",
    "instance",
    "_Feature"
   ],
   "window_display": false
  }
 },
 "nbformat": 4,
 "nbformat_minor": 5
}
