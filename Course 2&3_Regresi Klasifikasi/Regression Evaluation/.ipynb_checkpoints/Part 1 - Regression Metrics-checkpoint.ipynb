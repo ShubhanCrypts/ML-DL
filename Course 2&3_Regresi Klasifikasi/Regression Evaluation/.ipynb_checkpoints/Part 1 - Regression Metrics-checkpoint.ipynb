{
 "cells": [
  {
   "cell_type": "markdown",
   "id": "bfb2594f",
   "metadata": {},
   "source": [
    "# Regression Metrics"
   ]
  },
  {
   "cell_type": "markdown",
   "id": "ca83e5f9",
   "metadata": {},
   "source": [
    "# Regression Metrics\n",
    "## R-squared\n",
    "Seberapa bagus model kita dibandingkan rata-rata semua. Berkisar dari -inf sampai 1.\n",
    "Negatif artinya lebih buruk dari menggunakan rata-rata sederhana.\n",
    "0 artinya sama baiknya dengan rata-rata. Positif artinya lebih baik dari rata-rata, dan 1 artinya error = 0\n",
    "\n",
    "## Mean Absolute Error (MAE)\n",
    "Rata-rata dari error yang dimutlakkan. Semakin kecil semakin baik.\n",
    "\n",
    "## Mean Squared Error (MSE)\n",
    "Error terhadap data kita kuadratkan lalu dirata-ratakan. Semakin kecil semakin baik.\n",
    "\n",
    "## Root Mean Squared Error (RMSE)\n",
    "akar dari MSE"
   ]
  },
  {
   "cell_type": "code",
   "execution_count": null,
   "id": "dff0e19d",
   "metadata": {},
   "outputs": [],
   "source": []
  }
 ],
 "metadata": {
  "kernelspec": {
   "display_name": "Python [conda env:jcop]",
   "language": "python",
   "name": "conda-env-jcop-py"
  },
  "language_info": {
   "codemirror_mode": {
    "name": "ipython",
    "version": 3
   },
   "file_extension": ".py",
   "mimetype": "text/x-python",
   "name": "python",
   "nbconvert_exporter": "python",
   "pygments_lexer": "ipython3",
   "version": "3.11.0"
  },
  "varInspector": {
   "cols": {
    "lenName": 16,
    "lenType": 16,
    "lenVar": 40
   },
   "kernels_config": {
    "python": {
     "delete_cmd_postfix": "",
     "delete_cmd_prefix": "del ",
     "library": "var_list.py",
     "varRefreshCmd": "print(var_dic_list())"
    },
    "r": {
     "delete_cmd_postfix": ") ",
     "delete_cmd_prefix": "rm(",
     "library": "var_list.r",
     "varRefreshCmd": "cat(var_dic_list()) "
    }
   },
   "types_to_exclude": [
    "module",
    "function",
    "builtin_function_or_method",
    "instance",
    "_Feature"
   ],
   "window_display": false
  }
 },
 "nbformat": 4,
 "nbformat_minor": 5
}
